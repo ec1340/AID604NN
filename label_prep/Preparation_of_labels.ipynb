{
 "cells": [
  {
   "cell_type": "markdown",
   "metadata": {},
   "source": [
    "### In this notebook we will prepare the labels to be used in the neural net "
   ]
  },
  {
   "cell_type": "markdown",
   "metadata": {},
   "source": [
    "#### Three label sets will be made:\n",
    "\n",
    "#### 1. Label set for active/inactive - classification\n",
    "\n",
    "#### 2. Label set for pubchem activity score - regression\n",
    "\n",
    "#### 3. Label set for inhibition primary at 6uM (IP6M) "
   ]
  },
  {
   "cell_type": "markdown",
   "metadata": {},
   "source": [
    "#### Import required libraries"
   ]
  },
  {
   "cell_type": "code",
   "execution_count": 1,
   "metadata": {
    "collapsed": false
   },
   "outputs": [],
   "source": [
    "import pandas as pd\n",
    "import numpy as np"
   ]
  },
  {
   "cell_type": "markdown",
   "metadata": {},
   "source": [
    "#### Pre-processing:"
   ]
  },
  {
   "cell_type": "code",
   "execution_count": 2,
   "metadata": {
    "collapsed": false
   },
   "outputs": [
    {
     "data": {
      "text/html": [
       "<div>\n",
       "<table border=\"1\" class=\"dataframe\">\n",
       "  <thead>\n",
       "    <tr style=\"text-align: right;\">\n",
       "      <th></th>\n",
       "      <th>PUBCHEM_RESULT_TAG</th>\n",
       "      <th>PUBCHEM_SID</th>\n",
       "      <th>PUBCHEM_CID</th>\n",
       "      <th>PUBCHEM_ACTIVITY_OUTCOME</th>\n",
       "      <th>PUBCHEM_ACTIVITY_SCORE</th>\n",
       "      <th>PUBCHEM_ACTIVITY_URL</th>\n",
       "      <th>PUBCHEM_ASSAYDATA_COMMENT</th>\n",
       "      <th>Inhibition_Primary at 6 uM</th>\n",
       "    </tr>\n",
       "  </thead>\n",
       "  <tbody>\n",
       "    <tr>\n",
       "      <th>0</th>\n",
       "      <td>RESULT_TYPE</td>\n",
       "      <td>NaN</td>\n",
       "      <td>NaN</td>\n",
       "      <td>NaN</td>\n",
       "      <td>NaN</td>\n",
       "      <td>NaN</td>\n",
       "      <td>NaN</td>\n",
       "      <td>FLOAT</td>\n",
       "    </tr>\n",
       "    <tr>\n",
       "      <th>1</th>\n",
       "      <td>RESULT_DESCR</td>\n",
       "      <td>NaN</td>\n",
       "      <td>NaN</td>\n",
       "      <td>NaN</td>\n",
       "      <td>NaN</td>\n",
       "      <td>NaN</td>\n",
       "      <td>NaN</td>\n",
       "      <td>%Inhibition in the primary screen at 6 micromo...</td>\n",
       "    </tr>\n",
       "    <tr>\n",
       "      <th>2</th>\n",
       "      <td>RESULT_UNIT</td>\n",
       "      <td>NaN</td>\n",
       "      <td>NaN</td>\n",
       "      <td>NaN</td>\n",
       "      <td>NaN</td>\n",
       "      <td>NaN</td>\n",
       "      <td>NaN</td>\n",
       "      <td>NONE</td>\n",
       "    </tr>\n",
       "    <tr>\n",
       "      <th>3</th>\n",
       "      <td>1</td>\n",
       "      <td>842122.0</td>\n",
       "      <td>6602571.0</td>\n",
       "      <td>Inactive</td>\n",
       "      <td>0.0</td>\n",
       "      <td>NaN</td>\n",
       "      <td>NaN</td>\n",
       "      <td>0</td>\n",
       "    </tr>\n",
       "    <tr>\n",
       "      <th>4</th>\n",
       "      <td>2</td>\n",
       "      <td>842123.0</td>\n",
       "      <td>6602616.0</td>\n",
       "      <td>Inactive</td>\n",
       "      <td>0.0</td>\n",
       "      <td>NaN</td>\n",
       "      <td>NaN</td>\n",
       "      <td>-0.3</td>\n",
       "    </tr>\n",
       "    <tr>\n",
       "      <th>5</th>\n",
       "      <td>3</td>\n",
       "      <td>842124.0</td>\n",
       "      <td>644371.0</td>\n",
       "      <td>Inactive</td>\n",
       "      <td>3.0</td>\n",
       "      <td>NaN</td>\n",
       "      <td>NaN</td>\n",
       "      <td>6.7</td>\n",
       "    </tr>\n",
       "    <tr>\n",
       "      <th>6</th>\n",
       "      <td>4</td>\n",
       "      <td>842125.0</td>\n",
       "      <td>6603132.0</td>\n",
       "      <td>Inactive</td>\n",
       "      <td>0.0</td>\n",
       "      <td>NaN</td>\n",
       "      <td>NaN</td>\n",
       "      <td>1.6</td>\n",
       "    </tr>\n",
       "    <tr>\n",
       "      <th>7</th>\n",
       "      <td>5</td>\n",
       "      <td>842126.0</td>\n",
       "      <td>2850911.0</td>\n",
       "      <td>Inactive</td>\n",
       "      <td>1.0</td>\n",
       "      <td>NaN</td>\n",
       "      <td>NaN</td>\n",
       "      <td>2.5</td>\n",
       "    </tr>\n",
       "    <tr>\n",
       "      <th>8</th>\n",
       "      <td>6</td>\n",
       "      <td>842127.0</td>\n",
       "      <td>6603374.0</td>\n",
       "      <td>Inactive</td>\n",
       "      <td>2.0</td>\n",
       "      <td>NaN</td>\n",
       "      <td>NaN</td>\n",
       "      <td>3.6</td>\n",
       "    </tr>\n",
       "    <tr>\n",
       "      <th>9</th>\n",
       "      <td>7</td>\n",
       "      <td>842128.0</td>\n",
       "      <td>6603127.0</td>\n",
       "      <td>Inactive</td>\n",
       "      <td>0.0</td>\n",
       "      <td>NaN</td>\n",
       "      <td>NaN</td>\n",
       "      <td>0.2</td>\n",
       "    </tr>\n",
       "  </tbody>\n",
       "</table>\n",
       "</div>"
      ],
      "text/plain": [
       "  PUBCHEM_RESULT_TAG  PUBCHEM_SID  PUBCHEM_CID PUBCHEM_ACTIVITY_OUTCOME  \\\n",
       "0        RESULT_TYPE          NaN          NaN                      NaN   \n",
       "1       RESULT_DESCR          NaN          NaN                      NaN   \n",
       "2        RESULT_UNIT          NaN          NaN                      NaN   \n",
       "3                  1     842122.0    6602571.0                 Inactive   \n",
       "4                  2     842123.0    6602616.0                 Inactive   \n",
       "5                  3     842124.0     644371.0                 Inactive   \n",
       "6                  4     842125.0    6603132.0                 Inactive   \n",
       "7                  5     842126.0    2850911.0                 Inactive   \n",
       "8                  6     842127.0    6603374.0                 Inactive   \n",
       "9                  7     842128.0    6603127.0                 Inactive   \n",
       "\n",
       "   PUBCHEM_ACTIVITY_SCORE  PUBCHEM_ACTIVITY_URL  PUBCHEM_ASSAYDATA_COMMENT  \\\n",
       "0                     NaN                   NaN                        NaN   \n",
       "1                     NaN                   NaN                        NaN   \n",
       "2                     NaN                   NaN                        NaN   \n",
       "3                     0.0                   NaN                        NaN   \n",
       "4                     0.0                   NaN                        NaN   \n",
       "5                     3.0                   NaN                        NaN   \n",
       "6                     0.0                   NaN                        NaN   \n",
       "7                     1.0                   NaN                        NaN   \n",
       "8                     2.0                   NaN                        NaN   \n",
       "9                     0.0                   NaN                        NaN   \n",
       "\n",
       "                          Inhibition_Primary at 6 uM  \n",
       "0                                              FLOAT  \n",
       "1  %Inhibition in the primary screen at 6 micromo...  \n",
       "2                                               NONE  \n",
       "3                                                  0  \n",
       "4                                               -0.3  \n",
       "5                                                6.7  \n",
       "6                                                1.6  \n",
       "7                                                2.5  \n",
       "8                                                3.6  \n",
       "9                                                0.2  "
      ]
     },
     "execution_count": 2,
     "metadata": {},
     "output_type": "execute_result"
    }
   ],
   "source": [
    "df = pd.read_csv('AID_604_datatable.csv', header= 0)\n",
    "df.head(10)"
   ]
  },
  {
   "cell_type": "markdown",
   "metadata": {},
   "source": [
    "we can see that the first 3 rows of the table do not provide us with actual data so we will drop them "
   ]
  },
  {
   "cell_type": "code",
   "execution_count": 3,
   "metadata": {
    "collapsed": false
   },
   "outputs": [
    {
     "data": {
      "text/html": [
       "<div>\n",
       "<table border=\"1\" class=\"dataframe\">\n",
       "  <thead>\n",
       "    <tr style=\"text-align: right;\">\n",
       "      <th></th>\n",
       "      <th>PUBCHEM_RESULT_TAG</th>\n",
       "      <th>PUBCHEM_SID</th>\n",
       "      <th>PUBCHEM_CID</th>\n",
       "      <th>PUBCHEM_ACTIVITY_OUTCOME</th>\n",
       "      <th>PUBCHEM_ACTIVITY_SCORE</th>\n",
       "      <th>PUBCHEM_ACTIVITY_URL</th>\n",
       "      <th>PUBCHEM_ASSAYDATA_COMMENT</th>\n",
       "      <th>Inhibition_Primary at 6 uM</th>\n",
       "    </tr>\n",
       "  </thead>\n",
       "  <tbody>\n",
       "    <tr>\n",
       "      <th>3</th>\n",
       "      <td>1</td>\n",
       "      <td>842122.0</td>\n",
       "      <td>6602571.0</td>\n",
       "      <td>Inactive</td>\n",
       "      <td>0.0</td>\n",
       "      <td>NaN</td>\n",
       "      <td>NaN</td>\n",
       "      <td>0</td>\n",
       "    </tr>\n",
       "    <tr>\n",
       "      <th>4</th>\n",
       "      <td>2</td>\n",
       "      <td>842123.0</td>\n",
       "      <td>6602616.0</td>\n",
       "      <td>Inactive</td>\n",
       "      <td>0.0</td>\n",
       "      <td>NaN</td>\n",
       "      <td>NaN</td>\n",
       "      <td>-0.3</td>\n",
       "    </tr>\n",
       "    <tr>\n",
       "      <th>5</th>\n",
       "      <td>3</td>\n",
       "      <td>842124.0</td>\n",
       "      <td>644371.0</td>\n",
       "      <td>Inactive</td>\n",
       "      <td>3.0</td>\n",
       "      <td>NaN</td>\n",
       "      <td>NaN</td>\n",
       "      <td>6.7</td>\n",
       "    </tr>\n",
       "    <tr>\n",
       "      <th>6</th>\n",
       "      <td>4</td>\n",
       "      <td>842125.0</td>\n",
       "      <td>6603132.0</td>\n",
       "      <td>Inactive</td>\n",
       "      <td>0.0</td>\n",
       "      <td>NaN</td>\n",
       "      <td>NaN</td>\n",
       "      <td>1.6</td>\n",
       "    </tr>\n",
       "    <tr>\n",
       "      <th>7</th>\n",
       "      <td>5</td>\n",
       "      <td>842126.0</td>\n",
       "      <td>2850911.0</td>\n",
       "      <td>Inactive</td>\n",
       "      <td>1.0</td>\n",
       "      <td>NaN</td>\n",
       "      <td>NaN</td>\n",
       "      <td>2.5</td>\n",
       "    </tr>\n",
       "    <tr>\n",
       "      <th>8</th>\n",
       "      <td>6</td>\n",
       "      <td>842127.0</td>\n",
       "      <td>6603374.0</td>\n",
       "      <td>Inactive</td>\n",
       "      <td>2.0</td>\n",
       "      <td>NaN</td>\n",
       "      <td>NaN</td>\n",
       "      <td>3.6</td>\n",
       "    </tr>\n",
       "    <tr>\n",
       "      <th>9</th>\n",
       "      <td>7</td>\n",
       "      <td>842128.0</td>\n",
       "      <td>6603127.0</td>\n",
       "      <td>Inactive</td>\n",
       "      <td>0.0</td>\n",
       "      <td>NaN</td>\n",
       "      <td>NaN</td>\n",
       "      <td>0.2</td>\n",
       "    </tr>\n",
       "    <tr>\n",
       "      <th>10</th>\n",
       "      <td>8</td>\n",
       "      <td>842129.0</td>\n",
       "      <td>644380.0</td>\n",
       "      <td>Inactive</td>\n",
       "      <td>0.0</td>\n",
       "      <td>NaN</td>\n",
       "      <td>NaN</td>\n",
       "      <td>0.7</td>\n",
       "    </tr>\n",
       "    <tr>\n",
       "      <th>11</th>\n",
       "      <td>9</td>\n",
       "      <td>842131.0</td>\n",
       "      <td>6602565.0</td>\n",
       "      <td>Inactive</td>\n",
       "      <td>1.0</td>\n",
       "      <td>NaN</td>\n",
       "      <td>NaN</td>\n",
       "      <td>3</td>\n",
       "    </tr>\n",
       "    <tr>\n",
       "      <th>12</th>\n",
       "      <td>10</td>\n",
       "      <td>842132.0</td>\n",
       "      <td>6603080.0</td>\n",
       "      <td>Inactive</td>\n",
       "      <td>0.0</td>\n",
       "      <td>NaN</td>\n",
       "      <td>NaN</td>\n",
       "      <td>0.9</td>\n",
       "    </tr>\n",
       "  </tbody>\n",
       "</table>\n",
       "</div>"
      ],
      "text/plain": [
       "   PUBCHEM_RESULT_TAG  PUBCHEM_SID  PUBCHEM_CID PUBCHEM_ACTIVITY_OUTCOME  \\\n",
       "3                   1     842122.0    6602571.0                 Inactive   \n",
       "4                   2     842123.0    6602616.0                 Inactive   \n",
       "5                   3     842124.0     644371.0                 Inactive   \n",
       "6                   4     842125.0    6603132.0                 Inactive   \n",
       "7                   5     842126.0    2850911.0                 Inactive   \n",
       "8                   6     842127.0    6603374.0                 Inactive   \n",
       "9                   7     842128.0    6603127.0                 Inactive   \n",
       "10                  8     842129.0     644380.0                 Inactive   \n",
       "11                  9     842131.0    6602565.0                 Inactive   \n",
       "12                 10     842132.0    6603080.0                 Inactive   \n",
       "\n",
       "    PUBCHEM_ACTIVITY_SCORE  PUBCHEM_ACTIVITY_URL  PUBCHEM_ASSAYDATA_COMMENT  \\\n",
       "3                      0.0                   NaN                        NaN   \n",
       "4                      0.0                   NaN                        NaN   \n",
       "5                      3.0                   NaN                        NaN   \n",
       "6                      0.0                   NaN                        NaN   \n",
       "7                      1.0                   NaN                        NaN   \n",
       "8                      2.0                   NaN                        NaN   \n",
       "9                      0.0                   NaN                        NaN   \n",
       "10                     0.0                   NaN                        NaN   \n",
       "11                     1.0                   NaN                        NaN   \n",
       "12                     0.0                   NaN                        NaN   \n",
       "\n",
       "   Inhibition_Primary at 6 uM  \n",
       "3                           0  \n",
       "4                        -0.3  \n",
       "5                         6.7  \n",
       "6                         1.6  \n",
       "7                         2.5  \n",
       "8                         3.6  \n",
       "9                         0.2  \n",
       "10                        0.7  \n",
       "11                          3  \n",
       "12                        0.9  "
      ]
     },
     "execution_count": 3,
     "metadata": {},
     "output_type": "execute_result"
    }
   ],
   "source": [
    "df = df.drop([0,1,2])\n",
    "df.head(10)"
   ]
  },
  {
   "cell_type": "markdown",
   "metadata": {},
   "source": [
    "as our images are in order of increasing CID value, we must reorder our dataset in a corresponding manner "
   ]
  },
  {
   "cell_type": "code",
   "execution_count": 4,
   "metadata": {
    "collapsed": true
   },
   "outputs": [],
   "source": [
    "df = df.sort_values(['PUBCHEM_CID'], ascending=True)"
   ]
  },
  {
   "cell_type": "code",
   "execution_count": 5,
   "metadata": {
    "collapsed": false
   },
   "outputs": [
    {
     "data": {
      "text/html": [
       "<div>\n",
       "<table border=\"1\" class=\"dataframe\">\n",
       "  <thead>\n",
       "    <tr style=\"text-align: right;\">\n",
       "      <th></th>\n",
       "      <th>PUBCHEM_RESULT_TAG</th>\n",
       "      <th>PUBCHEM_SID</th>\n",
       "      <th>PUBCHEM_CID</th>\n",
       "      <th>PUBCHEM_ACTIVITY_OUTCOME</th>\n",
       "      <th>PUBCHEM_ACTIVITY_SCORE</th>\n",
       "      <th>PUBCHEM_ACTIVITY_URL</th>\n",
       "      <th>PUBCHEM_ASSAYDATA_COMMENT</th>\n",
       "      <th>Inhibition_Primary at 6 uM</th>\n",
       "    </tr>\n",
       "  </thead>\n",
       "  <tbody>\n",
       "    <tr>\n",
       "      <th>29178</th>\n",
       "      <td>29176</td>\n",
       "      <td>4243530.0</td>\n",
       "      <td>525.0</td>\n",
       "      <td>Inactive</td>\n",
       "      <td>0.0</td>\n",
       "      <td>NaN</td>\n",
       "      <td>NaN</td>\n",
       "      <td>-3.2</td>\n",
       "    </tr>\n",
       "    <tr>\n",
       "      <th>10810</th>\n",
       "      <td>10808</td>\n",
       "      <td>855876.0</td>\n",
       "      <td>1329.0</td>\n",
       "      <td>Inactive</td>\n",
       "      <td>0.0</td>\n",
       "      <td>NaN</td>\n",
       "      <td>NaN</td>\n",
       "      <td>0.9</td>\n",
       "    </tr>\n",
       "    <tr>\n",
       "      <th>10719</th>\n",
       "      <td>10717</td>\n",
       "      <td>855784.0</td>\n",
       "      <td>1676.0</td>\n",
       "      <td>Inactive</td>\n",
       "      <td>0.0</td>\n",
       "      <td>NaN</td>\n",
       "      <td>NaN</td>\n",
       "      <td>-0.9</td>\n",
       "    </tr>\n",
       "    <tr>\n",
       "      <th>10551</th>\n",
       "      <td>10549</td>\n",
       "      <td>855615.0</td>\n",
       "      <td>1688.0</td>\n",
       "      <td>Inactive</td>\n",
       "      <td>4.0</td>\n",
       "      <td>NaN</td>\n",
       "      <td>NaN</td>\n",
       "      <td>7.2</td>\n",
       "    </tr>\n",
       "    <tr>\n",
       "      <th>10563</th>\n",
       "      <td>10561</td>\n",
       "      <td>855627.0</td>\n",
       "      <td>1780.0</td>\n",
       "      <td>Inactive</td>\n",
       "      <td>0.0</td>\n",
       "      <td>NaN</td>\n",
       "      <td>NaN</td>\n",
       "      <td>-2.3</td>\n",
       "    </tr>\n",
       "  </tbody>\n",
       "</table>\n",
       "</div>"
      ],
      "text/plain": [
       "      PUBCHEM_RESULT_TAG  PUBCHEM_SID  PUBCHEM_CID PUBCHEM_ACTIVITY_OUTCOME  \\\n",
       "29178              29176    4243530.0        525.0                 Inactive   \n",
       "10810              10808     855876.0       1329.0                 Inactive   \n",
       "10719              10717     855784.0       1676.0                 Inactive   \n",
       "10551              10549     855615.0       1688.0                 Inactive   \n",
       "10563              10561     855627.0       1780.0                 Inactive   \n",
       "\n",
       "       PUBCHEM_ACTIVITY_SCORE  PUBCHEM_ACTIVITY_URL  \\\n",
       "29178                     0.0                   NaN   \n",
       "10810                     0.0                   NaN   \n",
       "10719                     0.0                   NaN   \n",
       "10551                     4.0                   NaN   \n",
       "10563                     0.0                   NaN   \n",
       "\n",
       "       PUBCHEM_ASSAYDATA_COMMENT Inhibition_Primary at 6 uM  \n",
       "29178                        NaN                       -3.2  \n",
       "10810                        NaN                        0.9  \n",
       "10719                        NaN                       -0.9  \n",
       "10551                        NaN                        7.2  \n",
       "10563                        NaN                       -2.3  "
      ]
     },
     "execution_count": 5,
     "metadata": {},
     "output_type": "execute_result"
    }
   ],
   "source": [
    "df.head()"
   ]
  },
  {
   "cell_type": "markdown",
   "metadata": {},
   "source": [
    "now we have to reindex "
   ]
  },
  {
   "cell_type": "code",
   "execution_count": 6,
   "metadata": {
    "collapsed": false
   },
   "outputs": [
    {
     "data": {
      "text/html": [
       "<div>\n",
       "<table border=\"1\" class=\"dataframe\">\n",
       "  <thead>\n",
       "    <tr style=\"text-align: right;\">\n",
       "      <th></th>\n",
       "      <th>PUBCHEM_RESULT_TAG</th>\n",
       "      <th>PUBCHEM_SID</th>\n",
       "      <th>PUBCHEM_CID</th>\n",
       "      <th>PUBCHEM_ACTIVITY_OUTCOME</th>\n",
       "      <th>PUBCHEM_ACTIVITY_SCORE</th>\n",
       "      <th>PUBCHEM_ACTIVITY_URL</th>\n",
       "      <th>PUBCHEM_ASSAYDATA_COMMENT</th>\n",
       "      <th>Inhibition_Primary at 6 uM</th>\n",
       "    </tr>\n",
       "  </thead>\n",
       "  <tbody>\n",
       "    <tr>\n",
       "      <th>0</th>\n",
       "      <td>29176</td>\n",
       "      <td>4243530.0</td>\n",
       "      <td>525.0</td>\n",
       "      <td>Inactive</td>\n",
       "      <td>0.0</td>\n",
       "      <td>NaN</td>\n",
       "      <td>NaN</td>\n",
       "      <td>-3.2</td>\n",
       "    </tr>\n",
       "    <tr>\n",
       "      <th>1</th>\n",
       "      <td>10808</td>\n",
       "      <td>855876.0</td>\n",
       "      <td>1329.0</td>\n",
       "      <td>Inactive</td>\n",
       "      <td>0.0</td>\n",
       "      <td>NaN</td>\n",
       "      <td>NaN</td>\n",
       "      <td>0.9</td>\n",
       "    </tr>\n",
       "    <tr>\n",
       "      <th>2</th>\n",
       "      <td>10717</td>\n",
       "      <td>855784.0</td>\n",
       "      <td>1676.0</td>\n",
       "      <td>Inactive</td>\n",
       "      <td>0.0</td>\n",
       "      <td>NaN</td>\n",
       "      <td>NaN</td>\n",
       "      <td>-0.9</td>\n",
       "    </tr>\n",
       "    <tr>\n",
       "      <th>3</th>\n",
       "      <td>10549</td>\n",
       "      <td>855615.0</td>\n",
       "      <td>1688.0</td>\n",
       "      <td>Inactive</td>\n",
       "      <td>4.0</td>\n",
       "      <td>NaN</td>\n",
       "      <td>NaN</td>\n",
       "      <td>7.2</td>\n",
       "    </tr>\n",
       "    <tr>\n",
       "      <th>4</th>\n",
       "      <td>10561</td>\n",
       "      <td>855627.0</td>\n",
       "      <td>1780.0</td>\n",
       "      <td>Inactive</td>\n",
       "      <td>0.0</td>\n",
       "      <td>NaN</td>\n",
       "      <td>NaN</td>\n",
       "      <td>-2.3</td>\n",
       "    </tr>\n",
       "    <tr>\n",
       "      <th>5</th>\n",
       "      <td>14170</td>\n",
       "      <td>859279.0</td>\n",
       "      <td>1820.0</td>\n",
       "      <td>Inactive</td>\n",
       "      <td>0.0</td>\n",
       "      <td>NaN</td>\n",
       "      <td>NaN</td>\n",
       "      <td>-1.2</td>\n",
       "    </tr>\n",
       "    <tr>\n",
       "      <th>6</th>\n",
       "      <td>10625</td>\n",
       "      <td>855691.0</td>\n",
       "      <td>1820.0</td>\n",
       "      <td>Inactive</td>\n",
       "      <td>0.0</td>\n",
       "      <td>NaN</td>\n",
       "      <td>NaN</td>\n",
       "      <td>1.6</td>\n",
       "    </tr>\n",
       "    <tr>\n",
       "      <th>7</th>\n",
       "      <td>10805</td>\n",
       "      <td>855873.0</td>\n",
       "      <td>1832.0</td>\n",
       "      <td>Inactive</td>\n",
       "      <td>0.0</td>\n",
       "      <td>NaN</td>\n",
       "      <td>NaN</td>\n",
       "      <td>0.6</td>\n",
       "    </tr>\n",
       "    <tr>\n",
       "      <th>8</th>\n",
       "      <td>10651</td>\n",
       "      <td>855717.0</td>\n",
       "      <td>1892.0</td>\n",
       "      <td>Inactive</td>\n",
       "      <td>0.0</td>\n",
       "      <td>NaN</td>\n",
       "      <td>NaN</td>\n",
       "      <td>-1.7</td>\n",
       "    </tr>\n",
       "    <tr>\n",
       "      <th>9</th>\n",
       "      <td>10529</td>\n",
       "      <td>855595.0</td>\n",
       "      <td>1893.0</td>\n",
       "      <td>Inactive</td>\n",
       "      <td>0.0</td>\n",
       "      <td>NaN</td>\n",
       "      <td>NaN</td>\n",
       "      <td>-12.2</td>\n",
       "    </tr>\n",
       "  </tbody>\n",
       "</table>\n",
       "</div>"
      ],
      "text/plain": [
       "  PUBCHEM_RESULT_TAG  PUBCHEM_SID  PUBCHEM_CID PUBCHEM_ACTIVITY_OUTCOME  \\\n",
       "0              29176    4243530.0        525.0                 Inactive   \n",
       "1              10808     855876.0       1329.0                 Inactive   \n",
       "2              10717     855784.0       1676.0                 Inactive   \n",
       "3              10549     855615.0       1688.0                 Inactive   \n",
       "4              10561     855627.0       1780.0                 Inactive   \n",
       "5              14170     859279.0       1820.0                 Inactive   \n",
       "6              10625     855691.0       1820.0                 Inactive   \n",
       "7              10805     855873.0       1832.0                 Inactive   \n",
       "8              10651     855717.0       1892.0                 Inactive   \n",
       "9              10529     855595.0       1893.0                 Inactive   \n",
       "\n",
       "   PUBCHEM_ACTIVITY_SCORE  PUBCHEM_ACTIVITY_URL  PUBCHEM_ASSAYDATA_COMMENT  \\\n",
       "0                     0.0                   NaN                        NaN   \n",
       "1                     0.0                   NaN                        NaN   \n",
       "2                     0.0                   NaN                        NaN   \n",
       "3                     4.0                   NaN                        NaN   \n",
       "4                     0.0                   NaN                        NaN   \n",
       "5                     0.0                   NaN                        NaN   \n",
       "6                     0.0                   NaN                        NaN   \n",
       "7                     0.0                   NaN                        NaN   \n",
       "8                     0.0                   NaN                        NaN   \n",
       "9                     0.0                   NaN                        NaN   \n",
       "\n",
       "  Inhibition_Primary at 6 uM  \n",
       "0                       -3.2  \n",
       "1                        0.9  \n",
       "2                       -0.9  \n",
       "3                        7.2  \n",
       "4                       -2.3  \n",
       "5                       -1.2  \n",
       "6                        1.6  \n",
       "7                        0.6  \n",
       "8                       -1.7  \n",
       "9                      -12.2  "
      ]
     },
     "execution_count": 6,
     "metadata": {},
     "output_type": "execute_result"
    }
   ],
   "source": [
    "df = df.reset_index(drop=True)\n",
    "df.head(10)"
   ]
  },
  {
   "cell_type": "code",
   "execution_count": 7,
   "metadata": {
    "collapsed": false
   },
   "outputs": [
    {
     "data": {
      "text/html": [
       "<div>\n",
       "<table border=\"1\" class=\"dataframe\">\n",
       "  <thead>\n",
       "    <tr style=\"text-align: right;\">\n",
       "      <th></th>\n",
       "      <th>PUBCHEM_SID</th>\n",
       "      <th>PUBCHEM_CID</th>\n",
       "      <th>PUBCHEM_ACTIVITY_SCORE</th>\n",
       "      <th>PUBCHEM_ACTIVITY_URL</th>\n",
       "      <th>PUBCHEM_ASSAYDATA_COMMENT</th>\n",
       "    </tr>\n",
       "  </thead>\n",
       "  <tbody>\n",
       "    <tr>\n",
       "      <th>count</th>\n",
       "      <td>5.980500e+04</td>\n",
       "      <td>5.980400e+04</td>\n",
       "      <td>59805.000000</td>\n",
       "      <td>0.0</td>\n",
       "      <td>0.0</td>\n",
       "    </tr>\n",
       "    <tr>\n",
       "      <th>mean</th>\n",
       "      <td>3.770893e+06</td>\n",
       "      <td>2.398077e+06</td>\n",
       "      <td>1.561609</td>\n",
       "      <td>NaN</td>\n",
       "      <td>NaN</td>\n",
       "    </tr>\n",
       "    <tr>\n",
       "      <th>std</th>\n",
       "      <td>2.569843e+06</td>\n",
       "      <td>3.734900e+06</td>\n",
       "      <td>2.355936</td>\n",
       "      <td>NaN</td>\n",
       "      <td>NaN</td>\n",
       "    </tr>\n",
       "    <tr>\n",
       "      <th>min</th>\n",
       "      <td>8.421220e+05</td>\n",
       "      <td>5.250000e+02</td>\n",
       "      <td>0.000000</td>\n",
       "      <td>NaN</td>\n",
       "      <td>NaN</td>\n",
       "    </tr>\n",
       "    <tr>\n",
       "      <th>25%</th>\n",
       "      <td>8.600630e+05</td>\n",
       "      <td>6.622392e+05</td>\n",
       "      <td>0.000000</td>\n",
       "      <td>NaN</td>\n",
       "      <td>NaN</td>\n",
       "    </tr>\n",
       "    <tr>\n",
       "      <th>50%</th>\n",
       "      <td>4.244429e+06</td>\n",
       "      <td>1.590369e+06</td>\n",
       "      <td>1.000000</td>\n",
       "      <td>NaN</td>\n",
       "      <td>NaN</td>\n",
       "    </tr>\n",
       "    <tr>\n",
       "      <th>75%</th>\n",
       "      <td>4.263011e+06</td>\n",
       "      <td>3.238147e+06</td>\n",
       "      <td>3.000000</td>\n",
       "      <td>NaN</td>\n",
       "      <td>NaN</td>\n",
       "    </tr>\n",
       "    <tr>\n",
       "      <th>max</th>\n",
       "      <td>7.978459e+06</td>\n",
       "      <td>5.664295e+07</td>\n",
       "      <td>100.000000</td>\n",
       "      <td>NaN</td>\n",
       "      <td>NaN</td>\n",
       "    </tr>\n",
       "  </tbody>\n",
       "</table>\n",
       "</div>"
      ],
      "text/plain": [
       "        PUBCHEM_SID   PUBCHEM_CID  PUBCHEM_ACTIVITY_SCORE  \\\n",
       "count  5.980500e+04  5.980400e+04            59805.000000   \n",
       "mean   3.770893e+06  2.398077e+06                1.561609   \n",
       "std    2.569843e+06  3.734900e+06                2.355936   \n",
       "min    8.421220e+05  5.250000e+02                0.000000   \n",
       "25%    8.600630e+05  6.622392e+05                0.000000   \n",
       "50%    4.244429e+06  1.590369e+06                1.000000   \n",
       "75%    4.263011e+06  3.238147e+06                3.000000   \n",
       "max    7.978459e+06  5.664295e+07              100.000000   \n",
       "\n",
       "       PUBCHEM_ACTIVITY_URL  PUBCHEM_ASSAYDATA_COMMENT  \n",
       "count                   0.0                        0.0  \n",
       "mean                    NaN                        NaN  \n",
       "std                     NaN                        NaN  \n",
       "min                     NaN                        NaN  \n",
       "25%                     NaN                        NaN  \n",
       "50%                     NaN                        NaN  \n",
       "75%                     NaN                        NaN  \n",
       "max                     NaN                        NaN  "
      ]
     },
     "execution_count": 7,
     "metadata": {},
     "output_type": "execute_result"
    }
   ],
   "source": [
    "df.describe()"
   ]
  },
  {
   "cell_type": "code",
   "execution_count": 8,
   "metadata": {
    "collapsed": false
   },
   "outputs": [
    {
     "data": {
      "text/plain": [
       "(59805, 8)"
      ]
     },
     "execution_count": 8,
     "metadata": {},
     "output_type": "execute_result"
    }
   ],
   "source": [
    "df.shape"
   ]
  },
  {
   "cell_type": "markdown",
   "metadata": {},
   "source": [
    "#### Since the NN will only run on the first 10,000 datapoints, we will remove everything after the first 10,000 entries in the datatable "
   ]
  },
  {
   "cell_type": "code",
   "execution_count": 9,
   "metadata": {
    "collapsed": false
   },
   "outputs": [
    {
     "data": {
      "text/plain": [
       "(10000, 8)"
      ]
     },
     "execution_count": 9,
     "metadata": {},
     "output_type": "execute_result"
    }
   ],
   "source": [
    "df1 = df[:10000]\n",
    "df1.shape"
   ]
  },
  {
   "cell_type": "markdown",
   "metadata": {},
   "source": [
    "## Label Set 1: \n",
    "note* need to rearrange table in order to increasign PUBCHEM_CID"
   ]
  },
  {
   "cell_type": "code",
   "execution_count": 10,
   "metadata": {
    "collapsed": false,
    "scrolled": true
   },
   "outputs": [
    {
     "name": "stdout",
     "output_type": "stream",
     "text": [
      "(10000, 8)\n"
     ]
    },
    {
     "data": {
      "text/html": [
       "<div>\n",
       "<table border=\"1\" class=\"dataframe\">\n",
       "  <thead>\n",
       "    <tr style=\"text-align: right;\">\n",
       "      <th></th>\n",
       "      <th>PUBCHEM_RESULT_TAG</th>\n",
       "      <th>PUBCHEM_SID</th>\n",
       "      <th>PUBCHEM_CID</th>\n",
       "      <th>PUBCHEM_ACTIVITY_OUTCOME</th>\n",
       "      <th>PUBCHEM_ACTIVITY_SCORE</th>\n",
       "      <th>PUBCHEM_ACTIVITY_URL</th>\n",
       "      <th>PUBCHEM_ASSAYDATA_COMMENT</th>\n",
       "      <th>Inhibition_Primary at 6 uM</th>\n",
       "    </tr>\n",
       "  </thead>\n",
       "  <tbody>\n",
       "    <tr>\n",
       "      <th>0</th>\n",
       "      <td>29176</td>\n",
       "      <td>4243530.0</td>\n",
       "      <td>525.0</td>\n",
       "      <td>Inactive</td>\n",
       "      <td>0.0</td>\n",
       "      <td>NaN</td>\n",
       "      <td>NaN</td>\n",
       "      <td>-3.2</td>\n",
       "    </tr>\n",
       "    <tr>\n",
       "      <th>1</th>\n",
       "      <td>10808</td>\n",
       "      <td>855876.0</td>\n",
       "      <td>1329.0</td>\n",
       "      <td>Inactive</td>\n",
       "      <td>0.0</td>\n",
       "      <td>NaN</td>\n",
       "      <td>NaN</td>\n",
       "      <td>0.9</td>\n",
       "    </tr>\n",
       "    <tr>\n",
       "      <th>2</th>\n",
       "      <td>10717</td>\n",
       "      <td>855784.0</td>\n",
       "      <td>1676.0</td>\n",
       "      <td>Inactive</td>\n",
       "      <td>0.0</td>\n",
       "      <td>NaN</td>\n",
       "      <td>NaN</td>\n",
       "      <td>-0.9</td>\n",
       "    </tr>\n",
       "    <tr>\n",
       "      <th>3</th>\n",
       "      <td>10549</td>\n",
       "      <td>855615.0</td>\n",
       "      <td>1688.0</td>\n",
       "      <td>Inactive</td>\n",
       "      <td>4.0</td>\n",
       "      <td>NaN</td>\n",
       "      <td>NaN</td>\n",
       "      <td>7.2</td>\n",
       "    </tr>\n",
       "    <tr>\n",
       "      <th>4</th>\n",
       "      <td>10561</td>\n",
       "      <td>855627.0</td>\n",
       "      <td>1780.0</td>\n",
       "      <td>Inactive</td>\n",
       "      <td>0.0</td>\n",
       "      <td>NaN</td>\n",
       "      <td>NaN</td>\n",
       "      <td>-2.3</td>\n",
       "    </tr>\n",
       "  </tbody>\n",
       "</table>\n",
       "</div>"
      ],
      "text/plain": [
       "  PUBCHEM_RESULT_TAG  PUBCHEM_SID  PUBCHEM_CID PUBCHEM_ACTIVITY_OUTCOME  \\\n",
       "0              29176    4243530.0        525.0                 Inactive   \n",
       "1              10808     855876.0       1329.0                 Inactive   \n",
       "2              10717     855784.0       1676.0                 Inactive   \n",
       "3              10549     855615.0       1688.0                 Inactive   \n",
       "4              10561     855627.0       1780.0                 Inactive   \n",
       "\n",
       "   PUBCHEM_ACTIVITY_SCORE  PUBCHEM_ACTIVITY_URL  PUBCHEM_ASSAYDATA_COMMENT  \\\n",
       "0                     0.0                   NaN                        NaN   \n",
       "1                     0.0                   NaN                        NaN   \n",
       "2                     0.0                   NaN                        NaN   \n",
       "3                     4.0                   NaN                        NaN   \n",
       "4                     0.0                   NaN                        NaN   \n",
       "\n",
       "  Inhibition_Primary at 6 uM  \n",
       "0                       -3.2  \n",
       "1                        0.9  \n",
       "2                       -0.9  \n",
       "3                        7.2  \n",
       "4                       -2.3  "
      ]
     },
     "execution_count": 10,
     "metadata": {},
     "output_type": "execute_result"
    }
   ],
   "source": [
    "lbl1 = df1\n",
    "print(str(lbl1.shape))\n",
    "lbl1.head()"
   ]
  },
  {
   "cell_type": "markdown",
   "metadata": {},
   "source": [
    "Let's convert the active/inactive labels to binary 0 and 1s, where 1 = active and 0 = inactive "
   ]
  },
  {
   "cell_type": "code",
   "execution_count": 11,
   "metadata": {
    "collapsed": false,
    "scrolled": true
   },
   "outputs": [
    {
     "data": {
      "text/html": [
       "<div>\n",
       "<table border=\"1\" class=\"dataframe\">\n",
       "  <thead>\n",
       "    <tr style=\"text-align: right;\">\n",
       "      <th></th>\n",
       "      <th>PUBCHEM_RESULT_TAG</th>\n",
       "      <th>PUBCHEM_SID</th>\n",
       "      <th>PUBCHEM_CID</th>\n",
       "      <th>PUBCHEM_ACTIVITY_OUTCOME</th>\n",
       "      <th>PUBCHEM_ACTIVITY_SCORE</th>\n",
       "      <th>PUBCHEM_ACTIVITY_URL</th>\n",
       "      <th>PUBCHEM_ASSAYDATA_COMMENT</th>\n",
       "      <th>Inhibition_Primary at 6 uM</th>\n",
       "    </tr>\n",
       "  </thead>\n",
       "  <tbody>\n",
       "    <tr>\n",
       "      <th>0</th>\n",
       "      <td>29176</td>\n",
       "      <td>4243530.0</td>\n",
       "      <td>525.0</td>\n",
       "      <td>0</td>\n",
       "      <td>0.0</td>\n",
       "      <td>NaN</td>\n",
       "      <td>NaN</td>\n",
       "      <td>-3.2</td>\n",
       "    </tr>\n",
       "    <tr>\n",
       "      <th>1</th>\n",
       "      <td>10808</td>\n",
       "      <td>855876.0</td>\n",
       "      <td>1329.0</td>\n",
       "      <td>0</td>\n",
       "      <td>0.0</td>\n",
       "      <td>NaN</td>\n",
       "      <td>NaN</td>\n",
       "      <td>0.9</td>\n",
       "    </tr>\n",
       "    <tr>\n",
       "      <th>2</th>\n",
       "      <td>10717</td>\n",
       "      <td>855784.0</td>\n",
       "      <td>1676.0</td>\n",
       "      <td>0</td>\n",
       "      <td>0.0</td>\n",
       "      <td>NaN</td>\n",
       "      <td>NaN</td>\n",
       "      <td>-0.9</td>\n",
       "    </tr>\n",
       "    <tr>\n",
       "      <th>3</th>\n",
       "      <td>10549</td>\n",
       "      <td>855615.0</td>\n",
       "      <td>1688.0</td>\n",
       "      <td>0</td>\n",
       "      <td>4.0</td>\n",
       "      <td>NaN</td>\n",
       "      <td>NaN</td>\n",
       "      <td>7.2</td>\n",
       "    </tr>\n",
       "    <tr>\n",
       "      <th>4</th>\n",
       "      <td>10561</td>\n",
       "      <td>855627.0</td>\n",
       "      <td>1780.0</td>\n",
       "      <td>0</td>\n",
       "      <td>0.0</td>\n",
       "      <td>NaN</td>\n",
       "      <td>NaN</td>\n",
       "      <td>-2.3</td>\n",
       "    </tr>\n",
       "  </tbody>\n",
       "</table>\n",
       "</div>"
      ],
      "text/plain": [
       "  PUBCHEM_RESULT_TAG  PUBCHEM_SID  PUBCHEM_CID  PUBCHEM_ACTIVITY_OUTCOME  \\\n",
       "0              29176    4243530.0        525.0                         0   \n",
       "1              10808     855876.0       1329.0                         0   \n",
       "2              10717     855784.0       1676.0                         0   \n",
       "3              10549     855615.0       1688.0                         0   \n",
       "4              10561     855627.0       1780.0                         0   \n",
       "\n",
       "   PUBCHEM_ACTIVITY_SCORE  PUBCHEM_ACTIVITY_URL  PUBCHEM_ASSAYDATA_COMMENT  \\\n",
       "0                     0.0                   NaN                        NaN   \n",
       "1                     0.0                   NaN                        NaN   \n",
       "2                     0.0                   NaN                        NaN   \n",
       "3                     4.0                   NaN                        NaN   \n",
       "4                     0.0                   NaN                        NaN   \n",
       "\n",
       "  Inhibition_Primary at 6 uM  \n",
       "0                       -3.2  \n",
       "1                        0.9  \n",
       "2                       -0.9  \n",
       "3                        7.2  \n",
       "4                       -2.3  "
      ]
     },
     "execution_count": 11,
     "metadata": {},
     "output_type": "execute_result"
    }
   ],
   "source": [
    "lbl1 = lbl1.replace(['Inactive','Active'],[0,1])\n",
    "lbl1.head()"
   ]
  },
  {
   "cell_type": "code",
   "execution_count": 12,
   "metadata": {
    "collapsed": false,
    "scrolled": true
   },
   "outputs": [
    {
     "data": {
      "text/html": [
       "<div>\n",
       "<table border=\"1\" class=\"dataframe\">\n",
       "  <thead>\n",
       "    <tr style=\"text-align: right;\">\n",
       "      <th></th>\n",
       "      <th>PUBCHEM_SID</th>\n",
       "      <th>PUBCHEM_CID</th>\n",
       "      <th>PUBCHEM_ACTIVITY_OUTCOME</th>\n",
       "      <th>PUBCHEM_ACTIVITY_SCORE</th>\n",
       "      <th>PUBCHEM_ACTIVITY_URL</th>\n",
       "      <th>PUBCHEM_ASSAYDATA_COMMENT</th>\n",
       "    </tr>\n",
       "  </thead>\n",
       "  <tbody>\n",
       "    <tr>\n",
       "      <th>count</th>\n",
       "      <td>1.000000e+04</td>\n",
       "      <td>10000.000000</td>\n",
       "      <td>10000.00000</td>\n",
       "      <td>10000.000000</td>\n",
       "      <td>0.0</td>\n",
       "      <td>0.0</td>\n",
       "    </tr>\n",
       "    <tr>\n",
       "      <th>mean</th>\n",
       "      <td>1.382626e+06</td>\n",
       "      <td>581454.673200</td>\n",
       "      <td>0.00540</td>\n",
       "      <td>1.436100</td>\n",
       "      <td>NaN</td>\n",
       "      <td>NaN</td>\n",
       "    </tr>\n",
       "    <tr>\n",
       "      <th>std</th>\n",
       "      <td>1.639294e+06</td>\n",
       "      <td>171367.003898</td>\n",
       "      <td>0.07329</td>\n",
       "      <td>2.688911</td>\n",
       "      <td>NaN</td>\n",
       "      <td>NaN</td>\n",
       "    </tr>\n",
       "    <tr>\n",
       "      <th>min</th>\n",
       "      <td>8.421240e+05</td>\n",
       "      <td>525.000000</td>\n",
       "      <td>0.00000</td>\n",
       "      <td>0.000000</td>\n",
       "      <td>NaN</td>\n",
       "      <td>NaN</td>\n",
       "    </tr>\n",
       "    <tr>\n",
       "      <th>25%</th>\n",
       "      <td>8.451678e+05</td>\n",
       "      <td>644905.750000</td>\n",
       "      <td>0.00000</td>\n",
       "      <td>0.000000</td>\n",
       "      <td>NaN</td>\n",
       "      <td>NaN</td>\n",
       "    </tr>\n",
       "    <tr>\n",
       "      <th>50%</th>\n",
       "      <td>8.482285e+05</td>\n",
       "      <td>648151.500000</td>\n",
       "      <td>0.00000</td>\n",
       "      <td>1.000000</td>\n",
       "      <td>NaN</td>\n",
       "      <td>NaN</td>\n",
       "    </tr>\n",
       "    <tr>\n",
       "      <th>75%</th>\n",
       "      <td>8.512872e+05</td>\n",
       "      <td>651410.250000</td>\n",
       "      <td>0.00000</td>\n",
       "      <td>2.000000</td>\n",
       "      <td>NaN</td>\n",
       "      <td>NaN</td>\n",
       "    </tr>\n",
       "    <tr>\n",
       "      <th>max</th>\n",
       "      <td>7.978450e+06</td>\n",
       "      <td>654711.000000</td>\n",
       "      <td>1.00000</td>\n",
       "      <td>86.000000</td>\n",
       "      <td>NaN</td>\n",
       "      <td>NaN</td>\n",
       "    </tr>\n",
       "  </tbody>\n",
       "</table>\n",
       "</div>"
      ],
      "text/plain": [
       "        PUBCHEM_SID    PUBCHEM_CID  PUBCHEM_ACTIVITY_OUTCOME  \\\n",
       "count  1.000000e+04   10000.000000               10000.00000   \n",
       "mean   1.382626e+06  581454.673200                   0.00540   \n",
       "std    1.639294e+06  171367.003898                   0.07329   \n",
       "min    8.421240e+05     525.000000                   0.00000   \n",
       "25%    8.451678e+05  644905.750000                   0.00000   \n",
       "50%    8.482285e+05  648151.500000                   0.00000   \n",
       "75%    8.512872e+05  651410.250000                   0.00000   \n",
       "max    7.978450e+06  654711.000000                   1.00000   \n",
       "\n",
       "       PUBCHEM_ACTIVITY_SCORE  PUBCHEM_ACTIVITY_URL  PUBCHEM_ASSAYDATA_COMMENT  \n",
       "count            10000.000000                   0.0                        0.0  \n",
       "mean                 1.436100                   NaN                        NaN  \n",
       "std                  2.688911                   NaN                        NaN  \n",
       "min                  0.000000                   NaN                        NaN  \n",
       "25%                  0.000000                   NaN                        NaN  \n",
       "50%                  1.000000                   NaN                        NaN  \n",
       "75%                  2.000000                   NaN                        NaN  \n",
       "max                 86.000000                   NaN                        NaN  "
      ]
     },
     "execution_count": 12,
     "metadata": {},
     "output_type": "execute_result"
    }
   ],
   "source": [
    "lbl1.describe()"
   ]
  },
  {
   "cell_type": "markdown",
   "metadata": {},
   "source": [
    "Since the mean value of the activity column is 0.00540 and the total number of entries is 10,000, we can use math to determine there are a total of .0054x10000 = 54 active compounds in our dataset\n",
    "\n",
    "As this number is relatively small, we must append more/the rest of the active compounds from the extended dataset to this subset\n",
    "\n",
    "We can also apply transformations to our active compounds images to artificially increase the amount as well"
   ]
  },
  {
   "cell_type": "markdown",
   "metadata": {},
   "source": [
    "#### 1.2 Assemble a small dataset with the active compounds from the 10,001 row and on"
   ]
  },
  {
   "cell_type": "code",
   "execution_count": 13,
   "metadata": {
    "collapsed": false
   },
   "outputs": [
    {
     "data": {
      "text/plain": [
       "(49805, 8)"
      ]
     },
     "execution_count": 13,
     "metadata": {},
     "output_type": "execute_result"
    }
   ],
   "source": [
    "df2 = df[10000:]\n",
    "df2.shape"
   ]
  },
  {
   "cell_type": "code",
   "execution_count": 14,
   "metadata": {
    "collapsed": false
   },
   "outputs": [
    {
     "data": {
      "text/html": [
       "<div>\n",
       "<table border=\"1\" class=\"dataframe\">\n",
       "  <thead>\n",
       "    <tr style=\"text-align: right;\">\n",
       "      <th></th>\n",
       "      <th>PUBCHEM_RESULT_TAG</th>\n",
       "      <th>PUBCHEM_SID</th>\n",
       "      <th>PUBCHEM_CID</th>\n",
       "      <th>PUBCHEM_ACTIVITY_OUTCOME</th>\n",
       "      <th>PUBCHEM_ACTIVITY_SCORE</th>\n",
       "      <th>PUBCHEM_ACTIVITY_URL</th>\n",
       "      <th>PUBCHEM_ASSAYDATA_COMMENT</th>\n",
       "      <th>Inhibition_Primary at 6 uM</th>\n",
       "    </tr>\n",
       "  </thead>\n",
       "  <tbody>\n",
       "    <tr>\n",
       "      <th>9995</th>\n",
       "      <td>8972</td>\n",
       "      <td>852103.0</td>\n",
       "      <td>654707.0</td>\n",
       "      <td>Inactive</td>\n",
       "      <td>1.0</td>\n",
       "      <td>NaN</td>\n",
       "      <td>NaN</td>\n",
       "      <td>1.9</td>\n",
       "    </tr>\n",
       "    <tr>\n",
       "      <th>9996</th>\n",
       "      <td>8973</td>\n",
       "      <td>852104.0</td>\n",
       "      <td>654708.0</td>\n",
       "      <td>Inactive</td>\n",
       "      <td>0.0</td>\n",
       "      <td>NaN</td>\n",
       "      <td>NaN</td>\n",
       "      <td>0.3</td>\n",
       "    </tr>\n",
       "    <tr>\n",
       "      <th>9997</th>\n",
       "      <td>8974</td>\n",
       "      <td>852105.0</td>\n",
       "      <td>654709.0</td>\n",
       "      <td>Inactive</td>\n",
       "      <td>0.0</td>\n",
       "      <td>NaN</td>\n",
       "      <td>NaN</td>\n",
       "      <td>0</td>\n",
       "    </tr>\n",
       "    <tr>\n",
       "      <th>9998</th>\n",
       "      <td>8975</td>\n",
       "      <td>852106.0</td>\n",
       "      <td>654710.0</td>\n",
       "      <td>Inactive</td>\n",
       "      <td>2.0</td>\n",
       "      <td>NaN</td>\n",
       "      <td>NaN</td>\n",
       "      <td>3.8</td>\n",
       "    </tr>\n",
       "    <tr>\n",
       "      <th>9999</th>\n",
       "      <td>8976</td>\n",
       "      <td>852107.0</td>\n",
       "      <td>654711.0</td>\n",
       "      <td>Inactive</td>\n",
       "      <td>0.0</td>\n",
       "      <td>NaN</td>\n",
       "      <td>NaN</td>\n",
       "      <td>1.1</td>\n",
       "    </tr>\n",
       "  </tbody>\n",
       "</table>\n",
       "</div>"
      ],
      "text/plain": [
       "     PUBCHEM_RESULT_TAG  PUBCHEM_SID  PUBCHEM_CID PUBCHEM_ACTIVITY_OUTCOME  \\\n",
       "9995               8972     852103.0     654707.0                 Inactive   \n",
       "9996               8973     852104.0     654708.0                 Inactive   \n",
       "9997               8974     852105.0     654709.0                 Inactive   \n",
       "9998               8975     852106.0     654710.0                 Inactive   \n",
       "9999               8976     852107.0     654711.0                 Inactive   \n",
       "\n",
       "      PUBCHEM_ACTIVITY_SCORE  PUBCHEM_ACTIVITY_URL  PUBCHEM_ASSAYDATA_COMMENT  \\\n",
       "9995                     1.0                   NaN                        NaN   \n",
       "9996                     0.0                   NaN                        NaN   \n",
       "9997                     0.0                   NaN                        NaN   \n",
       "9998                     2.0                   NaN                        NaN   \n",
       "9999                     0.0                   NaN                        NaN   \n",
       "\n",
       "     Inhibition_Primary at 6 uM  \n",
       "9995                        1.9  \n",
       "9996                        0.3  \n",
       "9997                          0  \n",
       "9998                        3.8  \n",
       "9999                        1.1  "
      ]
     },
     "execution_count": 14,
     "metadata": {},
     "output_type": "execute_result"
    }
   ],
   "source": [
    "df1.tail()"
   ]
  },
  {
   "cell_type": "code",
   "execution_count": 15,
   "metadata": {
    "collapsed": false
   },
   "outputs": [
    {
     "data": {
      "text/html": [
       "<div>\n",
       "<table border=\"1\" class=\"dataframe\">\n",
       "  <thead>\n",
       "    <tr style=\"text-align: right;\">\n",
       "      <th></th>\n",
       "      <th>PUBCHEM_RESULT_TAG</th>\n",
       "      <th>PUBCHEM_SID</th>\n",
       "      <th>PUBCHEM_CID</th>\n",
       "      <th>PUBCHEM_ACTIVITY_OUTCOME</th>\n",
       "      <th>PUBCHEM_ACTIVITY_SCORE</th>\n",
       "      <th>PUBCHEM_ACTIVITY_URL</th>\n",
       "      <th>PUBCHEM_ASSAYDATA_COMMENT</th>\n",
       "      <th>Inhibition_Primary at 6 uM</th>\n",
       "    </tr>\n",
       "  </thead>\n",
       "  <tbody>\n",
       "    <tr>\n",
       "      <th>10000</th>\n",
       "      <td>8977</td>\n",
       "      <td>852108.0</td>\n",
       "      <td>654712.0</td>\n",
       "      <td>Inactive</td>\n",
       "      <td>0.0</td>\n",
       "      <td>NaN</td>\n",
       "      <td>NaN</td>\n",
       "      <td>1.3</td>\n",
       "    </tr>\n",
       "    <tr>\n",
       "      <th>10001</th>\n",
       "      <td>8978</td>\n",
       "      <td>852109.0</td>\n",
       "      <td>654713.0</td>\n",
       "      <td>Inactive</td>\n",
       "      <td>2.0</td>\n",
       "      <td>NaN</td>\n",
       "      <td>NaN</td>\n",
       "      <td>3.5</td>\n",
       "    </tr>\n",
       "    <tr>\n",
       "      <th>10002</th>\n",
       "      <td>8979</td>\n",
       "      <td>852110.0</td>\n",
       "      <td>654714.0</td>\n",
       "      <td>Inactive</td>\n",
       "      <td>6.0</td>\n",
       "      <td>NaN</td>\n",
       "      <td>NaN</td>\n",
       "      <td>10.4</td>\n",
       "    </tr>\n",
       "    <tr>\n",
       "      <th>10003</th>\n",
       "      <td>8980</td>\n",
       "      <td>852112.0</td>\n",
       "      <td>654716.0</td>\n",
       "      <td>Inactive</td>\n",
       "      <td>0.0</td>\n",
       "      <td>NaN</td>\n",
       "      <td>NaN</td>\n",
       "      <td>-7.6</td>\n",
       "    </tr>\n",
       "    <tr>\n",
       "      <th>10004</th>\n",
       "      <td>8982</td>\n",
       "      <td>852114.0</td>\n",
       "      <td>654718.0</td>\n",
       "      <td>Inactive</td>\n",
       "      <td>0.0</td>\n",
       "      <td>NaN</td>\n",
       "      <td>NaN</td>\n",
       "      <td>-0.9</td>\n",
       "    </tr>\n",
       "    <tr>\n",
       "      <th>10005</th>\n",
       "      <td>8983</td>\n",
       "      <td>852115.0</td>\n",
       "      <td>654719.0</td>\n",
       "      <td>Inactive</td>\n",
       "      <td>0.0</td>\n",
       "      <td>NaN</td>\n",
       "      <td>NaN</td>\n",
       "      <td>-0.9</td>\n",
       "    </tr>\n",
       "    <tr>\n",
       "      <th>10006</th>\n",
       "      <td>8984</td>\n",
       "      <td>852116.0</td>\n",
       "      <td>654720.0</td>\n",
       "      <td>Inactive</td>\n",
       "      <td>2.0</td>\n",
       "      <td>NaN</td>\n",
       "      <td>NaN</td>\n",
       "      <td>3.7</td>\n",
       "    </tr>\n",
       "    <tr>\n",
       "      <th>10007</th>\n",
       "      <td>8985</td>\n",
       "      <td>852117.0</td>\n",
       "      <td>654721.0</td>\n",
       "      <td>Inactive</td>\n",
       "      <td>0.0</td>\n",
       "      <td>NaN</td>\n",
       "      <td>NaN</td>\n",
       "      <td>1</td>\n",
       "    </tr>\n",
       "    <tr>\n",
       "      <th>10008</th>\n",
       "      <td>8986</td>\n",
       "      <td>852118.0</td>\n",
       "      <td>654722.0</td>\n",
       "      <td>Inactive</td>\n",
       "      <td>0.0</td>\n",
       "      <td>NaN</td>\n",
       "      <td>NaN</td>\n",
       "      <td>1.5</td>\n",
       "    </tr>\n",
       "    <tr>\n",
       "      <th>10009</th>\n",
       "      <td>8992</td>\n",
       "      <td>852124.0</td>\n",
       "      <td>654733.0</td>\n",
       "      <td>Inactive</td>\n",
       "      <td>3.0</td>\n",
       "      <td>NaN</td>\n",
       "      <td>NaN</td>\n",
       "      <td>6.7</td>\n",
       "    </tr>\n",
       "  </tbody>\n",
       "</table>\n",
       "</div>"
      ],
      "text/plain": [
       "      PUBCHEM_RESULT_TAG  PUBCHEM_SID  PUBCHEM_CID PUBCHEM_ACTIVITY_OUTCOME  \\\n",
       "10000               8977     852108.0     654712.0                 Inactive   \n",
       "10001               8978     852109.0     654713.0                 Inactive   \n",
       "10002               8979     852110.0     654714.0                 Inactive   \n",
       "10003               8980     852112.0     654716.0                 Inactive   \n",
       "10004               8982     852114.0     654718.0                 Inactive   \n",
       "10005               8983     852115.0     654719.0                 Inactive   \n",
       "10006               8984     852116.0     654720.0                 Inactive   \n",
       "10007               8985     852117.0     654721.0                 Inactive   \n",
       "10008               8986     852118.0     654722.0                 Inactive   \n",
       "10009               8992     852124.0     654733.0                 Inactive   \n",
       "\n",
       "       PUBCHEM_ACTIVITY_SCORE  PUBCHEM_ACTIVITY_URL  \\\n",
       "10000                     0.0                   NaN   \n",
       "10001                     2.0                   NaN   \n",
       "10002                     6.0                   NaN   \n",
       "10003                     0.0                   NaN   \n",
       "10004                     0.0                   NaN   \n",
       "10005                     0.0                   NaN   \n",
       "10006                     2.0                   NaN   \n",
       "10007                     0.0                   NaN   \n",
       "10008                     0.0                   NaN   \n",
       "10009                     3.0                   NaN   \n",
       "\n",
       "       PUBCHEM_ASSAYDATA_COMMENT Inhibition_Primary at 6 uM  \n",
       "10000                        NaN                        1.3  \n",
       "10001                        NaN                        3.5  \n",
       "10002                        NaN                       10.4  \n",
       "10003                        NaN                       -7.6  \n",
       "10004                        NaN                       -0.9  \n",
       "10005                        NaN                       -0.9  \n",
       "10006                        NaN                        3.7  \n",
       "10007                        NaN                          1  \n",
       "10008                        NaN                        1.5  \n",
       "10009                        NaN                        6.7  "
      ]
     },
     "execution_count": 15,
     "metadata": {},
     "output_type": "execute_result"
    }
   ],
   "source": [
    "df2.head(10)"
   ]
  },
  {
   "cell_type": "markdown",
   "metadata": {},
   "source": [
    "we can see a clean continuation between the two tables which means df2 does in fact contain the 10,001th and on row "
   ]
  },
  {
   "cell_type": "code",
   "execution_count": 16,
   "metadata": {
    "collapsed": false
   },
   "outputs": [
    {
     "name": "stdout",
     "output_type": "stream",
     "text": [
      "158\n"
     ]
    }
   ],
   "source": [
    "table_end = len(df2[\"PUBCHEM_ACTIVITY_OUTCOME\"])\n",
    "table_end = table_end + 10000  #since the index starts at 10000, we will add 10000 to the length so the entire table is\n",
    "                               #read through\n",
    "\n",
    "\n",
    "active_set = {}\n",
    "\n",
    "for i in range(10000, table_end):\n",
    "    if df2[\"PUBCHEM_ACTIVITY_OUTCOME\"][i] == \"Active\":\n",
    "        CID = df2[\"PUBCHEM_CID\"][i]\n",
    "        outcome = df2[\"PUBCHEM_ACTIVITY_OUTCOME\"][i]\n",
    "        active_set[CID] = outcome\n",
    "print(str(len(active_set)))    "
   ]
  },
  {
   "cell_type": "markdown",
   "metadata": {},
   "source": [
    "The total amount of active compounds in this dataset was 212 and 158 + 54 = 212 so all active compounds are accounted for. Now we will create a pandas dataframe from the \"active_set\" python dict and then append that dataframe to our lbl1 dataframe "
   ]
  },
  {
   "cell_type": "code",
   "execution_count": 43,
   "metadata": {
    "collapsed": false
   },
   "outputs": [
    {
     "name": "stdout",
     "output_type": "stream",
     "text": [
      "  PUBCHEM_ACTIVITY_OUTCOME  PUBCHEM_CID\n",
      "0                   Active    2533120.0\n",
      "1                   Active    3238146.0\n",
      "2                   Active    3237123.0\n",
      "3                   Active    5739478.0\n",
      "4                   Active    3236615.0\n",
      "(158, 2)\n"
     ]
    }
   ],
   "source": [
    "comp_ids_list =  []\n",
    "activity_list = []\n",
    "\n",
    "for key, value in active_set.items():\n",
    "    comp_ids_list.append(key)\n",
    "    activity_list.append(value)\n",
    "#########\n",
    "#for future use, I will extract the list of active compounds\n",
    "import pickle\n",
    "\n",
    "pickle.dump(comp_ids_list, open(\"list_of_active_cmps_158.p\", \"wb\"))\n",
    "\n",
    "########\n",
    "active_set_data = {'PUBCHEM_CID': comp_ids_list,'PUBCHEM_ACTIVITY_OUTCOME': activity_list}\n",
    "active_df_activity = pd.DataFrame(active_set_data)\n",
    "#active_df_acitivty = active_df_activity[['PUBCHEM_CID','PUBCHEM_ACTIVITY_OUTCOME']] #switch order of columns to match lbls df\n",
    "print(active_df_activity.head())\n",
    "print(active_df_activity.shape)"
   ]
  },
  {
   "cell_type": "markdown",
   "metadata": {},
   "source": [
    "and let's have the format of the active/inactive label match between dataframes"
   ]
  },
  {
   "cell_type": "code",
   "execution_count": 18,
   "metadata": {
    "collapsed": false,
    "scrolled": true
   },
   "outputs": [
    {
     "data": {
      "text/html": [
       "<div>\n",
       "<table border=\"1\" class=\"dataframe\">\n",
       "  <thead>\n",
       "    <tr style=\"text-align: right;\">\n",
       "      <th></th>\n",
       "      <th>PUBCHEM_ACTIVITY_OUTCOME</th>\n",
       "      <th>PUBCHEM_CID</th>\n",
       "    </tr>\n",
       "  </thead>\n",
       "  <tbody>\n",
       "    <tr>\n",
       "      <th>0</th>\n",
       "      <td>1</td>\n",
       "      <td>2533120.0</td>\n",
       "    </tr>\n",
       "    <tr>\n",
       "      <th>1</th>\n",
       "      <td>1</td>\n",
       "      <td>3238146.0</td>\n",
       "    </tr>\n",
       "    <tr>\n",
       "      <th>2</th>\n",
       "      <td>1</td>\n",
       "      <td>3237123.0</td>\n",
       "    </tr>\n",
       "    <tr>\n",
       "      <th>3</th>\n",
       "      <td>1</td>\n",
       "      <td>5739478.0</td>\n",
       "    </tr>\n",
       "    <tr>\n",
       "      <th>4</th>\n",
       "      <td>1</td>\n",
       "      <td>3236615.0</td>\n",
       "    </tr>\n",
       "  </tbody>\n",
       "</table>\n",
       "</div>"
      ],
      "text/plain": [
       "   PUBCHEM_ACTIVITY_OUTCOME  PUBCHEM_CID\n",
       "0                         1    2533120.0\n",
       "1                         1    3238146.0\n",
       "2                         1    3237123.0\n",
       "3                         1    5739478.0\n",
       "4                         1    3236615.0"
      ]
     },
     "execution_count": 18,
     "metadata": {},
     "output_type": "execute_result"
    }
   ],
   "source": [
    "active_df_activity = active_df_activity.replace(['Active'],[1])\n",
    "active_df_activity.head()"
   ]
  },
  {
   "cell_type": "markdown",
   "metadata": {},
   "source": [
    "#### Now to combine dataframes lbl2 and active_df_activity in a dataframe called \"lbl1_final\""
   ]
  },
  {
   "cell_type": "markdown",
   "metadata": {},
   "source": [
    "But first we need to drop the unnecessary columns from the lbls dataframe so that the dimensions of the two dataframes match "
   ]
  },
  {
   "cell_type": "code",
   "execution_count": 19,
   "metadata": {
    "collapsed": false
   },
   "outputs": [
    {
     "name": "stdout",
     "output_type": "stream",
     "text": [
      "   PUBCHEM_ACTIVITY_OUTCOME  PUBCHEM_CID\n",
      "0                         0        525.0\n",
      "1                         0       1329.0\n",
      "2                         0       1676.0\n",
      "3                         0       1688.0\n",
      "4                         0       1780.0\n",
      "(10000, 2)\n"
     ]
    }
   ],
   "source": [
    "subset_lbl1 = [\"PUBCHEM_ACTIVITY_OUTCOME\",\"PUBCHEM_CID\"] #subset of columns from lbl1 to keep\n",
    "\n",
    "lbl1_2 = lbl1[subset_lbl1] #copy the kept columns to a new df called \"lbl1_2\" - Lbl2 is for Label set 2\n",
    "print(lbl1_2.head()) #examine the df to confirm desired transformation took place\"\n",
    "print(lbl1_2.shape)"
   ]
  },
  {
   "cell_type": "markdown",
   "metadata": {},
   "source": [
    "now to combine them:"
   ]
  },
  {
   "cell_type": "code",
   "execution_count": 20,
   "metadata": {
    "collapsed": false
   },
   "outputs": [
    {
     "name": "stdout",
     "output_type": "stream",
     "text": [
      "(10158, 2)\n",
      "   PUBCHEM_ACTIVITY_OUTCOME  PUBCHEM_CID\n",
      "0                         0        525.0\n",
      "1                         0       1329.0\n",
      "2                         0       1676.0\n",
      "3                         0       1688.0\n",
      "4                         0       1780.0\n"
     ]
    }
   ],
   "source": [
    "lbl1_final = lbl1_2.append(active_df_activity)\n",
    "print(lbl1_final.shape)\n",
    "print(lbl1_final.head())"
   ]
  },
  {
   "cell_type": "markdown",
   "metadata": {},
   "source": [
    "#### Now we can export the list of activity outcomes from lbl1_final to be our labels for label set 1 (labels for the classification task) "
   ]
  },
  {
   "cell_type": "code",
   "execution_count": 21,
   "metadata": {
    "collapsed": false
   },
   "outputs": [],
   "source": [
    "lbl1_final_export = lbl1_final['PUBCHEM_ACTIVITY_OUTCOME']\n",
    "\n",
    "lbl1_final_export.to_csv('labels_set_1.csv')"
   ]
  },
  {
   "cell_type": "markdown",
   "metadata": {},
   "source": [
    "need to convert the csv to list once imported to the final cNN notebook"
   ]
  },
  {
   "cell_type": "markdown",
   "metadata": {},
   "source": [
    "## Label Set 2:"
   ]
  },
  {
   "cell_type": "markdown",
   "metadata": {},
   "source": [
    "We will be starting with a copy of \"df1\" which was the a dataframe consisting of the first 10,000 rows from the complete dataset "
   ]
  },
  {
   "cell_type": "code",
   "execution_count": 22,
   "metadata": {
    "collapsed": false
   },
   "outputs": [
    {
     "data": {
      "text/html": [
       "<div>\n",
       "<table border=\"1\" class=\"dataframe\">\n",
       "  <thead>\n",
       "    <tr style=\"text-align: right;\">\n",
       "      <th></th>\n",
       "      <th>PUBCHEM_RESULT_TAG</th>\n",
       "      <th>PUBCHEM_SID</th>\n",
       "      <th>PUBCHEM_CID</th>\n",
       "      <th>PUBCHEM_ACTIVITY_OUTCOME</th>\n",
       "      <th>PUBCHEM_ACTIVITY_SCORE</th>\n",
       "      <th>PUBCHEM_ACTIVITY_URL</th>\n",
       "      <th>PUBCHEM_ASSAYDATA_COMMENT</th>\n",
       "      <th>Inhibition_Primary at 6 uM</th>\n",
       "    </tr>\n",
       "  </thead>\n",
       "  <tbody>\n",
       "    <tr>\n",
       "      <th>0</th>\n",
       "      <td>29176</td>\n",
       "      <td>4243530.0</td>\n",
       "      <td>525.0</td>\n",
       "      <td>Inactive</td>\n",
       "      <td>0.0</td>\n",
       "      <td>NaN</td>\n",
       "      <td>NaN</td>\n",
       "      <td>-3.2</td>\n",
       "    </tr>\n",
       "    <tr>\n",
       "      <th>1</th>\n",
       "      <td>10808</td>\n",
       "      <td>855876.0</td>\n",
       "      <td>1329.0</td>\n",
       "      <td>Inactive</td>\n",
       "      <td>0.0</td>\n",
       "      <td>NaN</td>\n",
       "      <td>NaN</td>\n",
       "      <td>0.9</td>\n",
       "    </tr>\n",
       "    <tr>\n",
       "      <th>2</th>\n",
       "      <td>10717</td>\n",
       "      <td>855784.0</td>\n",
       "      <td>1676.0</td>\n",
       "      <td>Inactive</td>\n",
       "      <td>0.0</td>\n",
       "      <td>NaN</td>\n",
       "      <td>NaN</td>\n",
       "      <td>-0.9</td>\n",
       "    </tr>\n",
       "    <tr>\n",
       "      <th>3</th>\n",
       "      <td>10549</td>\n",
       "      <td>855615.0</td>\n",
       "      <td>1688.0</td>\n",
       "      <td>Inactive</td>\n",
       "      <td>4.0</td>\n",
       "      <td>NaN</td>\n",
       "      <td>NaN</td>\n",
       "      <td>7.2</td>\n",
       "    </tr>\n",
       "    <tr>\n",
       "      <th>4</th>\n",
       "      <td>10561</td>\n",
       "      <td>855627.0</td>\n",
       "      <td>1780.0</td>\n",
       "      <td>Inactive</td>\n",
       "      <td>0.0</td>\n",
       "      <td>NaN</td>\n",
       "      <td>NaN</td>\n",
       "      <td>-2.3</td>\n",
       "    </tr>\n",
       "  </tbody>\n",
       "</table>\n",
       "</div>"
      ],
      "text/plain": [
       "  PUBCHEM_RESULT_TAG  PUBCHEM_SID  PUBCHEM_CID PUBCHEM_ACTIVITY_OUTCOME  \\\n",
       "0              29176    4243530.0        525.0                 Inactive   \n",
       "1              10808     855876.0       1329.0                 Inactive   \n",
       "2              10717     855784.0       1676.0                 Inactive   \n",
       "3              10549     855615.0       1688.0                 Inactive   \n",
       "4              10561     855627.0       1780.0                 Inactive   \n",
       "\n",
       "   PUBCHEM_ACTIVITY_SCORE  PUBCHEM_ACTIVITY_URL  PUBCHEM_ASSAYDATA_COMMENT  \\\n",
       "0                     0.0                   NaN                        NaN   \n",
       "1                     0.0                   NaN                        NaN   \n",
       "2                     0.0                   NaN                        NaN   \n",
       "3                     4.0                   NaN                        NaN   \n",
       "4                     0.0                   NaN                        NaN   \n",
       "\n",
       "  Inhibition_Primary at 6 uM  \n",
       "0                       -3.2  \n",
       "1                        0.9  \n",
       "2                       -0.9  \n",
       "3                        7.2  \n",
       "4                       -2.3  "
      ]
     },
     "execution_count": 22,
     "metadata": {},
     "output_type": "execute_result"
    }
   ],
   "source": [
    "lbl2 = df1\n",
    "lbl2.head()"
   ]
  },
  {
   "cell_type": "code",
   "execution_count": 23,
   "metadata": {
    "collapsed": false
   },
   "outputs": [
    {
     "data": {
      "text/plain": [
       "(10000, 8)"
      ]
     },
     "execution_count": 23,
     "metadata": {},
     "output_type": "execute_result"
    }
   ],
   "source": [
    "lbl2.shape"
   ]
  },
  {
   "cell_type": "markdown",
   "metadata": {},
   "source": [
    "#### Now let's take the subset of the dataframe that we're interested in, namely the PUBCHEM_ACTIVITY_SCORE column and the PUBCHEM_CID column"
   ]
  },
  {
   "cell_type": "code",
   "execution_count": 24,
   "metadata": {
    "collapsed": false
   },
   "outputs": [
    {
     "name": "stdout",
     "output_type": "stream",
     "text": [
      "   PUBCHEM_ACTIVITY_SCORE  PUBCHEM_CID\n",
      "0                     0.0        525.0\n",
      "1                     0.0       1329.0\n",
      "2                     0.0       1676.0\n",
      "3                     4.0       1688.0\n",
      "4                     0.0       1780.0\n",
      "(10000, 2)\n"
     ]
    }
   ],
   "source": [
    "subset_lbl2 = [\"PUBCHEM_ACTIVITY_SCORE\",\"PUBCHEM_CID\"]\n",
    "lbl2 = lbl2[subset_lbl2] #copy the kept columns to a new df called \"lbl1_2\" - Lbl2 is for Label set 2\n",
    "print(lbl2.head()) #examine the df to confirm desired transformation took place\"\n",
    "print(lbl2.shape)"
   ]
  },
  {
   "cell_type": "markdown",
   "metadata": {},
   "source": [
    "#### Now to assemble the corresponding \"active\" dataframe to append to this \"PUBCHEM_ACTIVITY_SCORE\" dataframe "
   ]
  },
  {
   "cell_type": "code",
   "execution_count": 25,
   "metadata": {
    "collapsed": false
   },
   "outputs": [
    {
     "name": "stdout",
     "output_type": "stream",
     "text": [
      "158\n"
     ]
    }
   ],
   "source": [
    "#Reusing code from earlier on the notebook \n",
    "\n",
    "#assemble the dictionary of active compound CID: Pubchem_activity_score\n",
    "pscore_active_dict = {}  #pscore = pubchem_active_score \n",
    "\n",
    "#This is just like what was done earlier for the creation of the dictionary (which ultimately was converted to a dataframe)\n",
    "#only this time we are using the Pubchem_activity_score column rather than the pubchem_acivity_outcome column\n",
    "\n",
    "#table_end is defined above (length of column + 10000)\n",
    "\n",
    "\n",
    "for i in range(10000, table_end):\n",
    "    if df2[\"PUBCHEM_ACTIVITY_OUTCOME\"][i] == \"Active\":\n",
    "        CID = df2[\"PUBCHEM_CID\"][i]\n",
    "        pub_score = df2[\"PUBCHEM_ACTIVITY_SCORE\"][i]\n",
    "        pscore_active_dict[CID] = pub_score\n",
    "        \n",
    "print(str(len(pscore_active_dict)))  "
   ]
  },
  {
   "cell_type": "code",
   "execution_count": 26,
   "metadata": {
    "collapsed": false
   },
   "outputs": [
    {
     "name": "stdout",
     "output_type": "stream",
     "text": [
      "   PUBCHEM_ACTIVITY_SCORE  PUBCHEM_CID\n",
      "0                    19.0    2533120.0\n",
      "1                    76.0    3238146.0\n",
      "2                    34.0    3237123.0\n",
      "3                    16.0    5739478.0\n",
      "4                    50.0    3236615.0\n",
      "(158, 2)\n"
     ]
    }
   ],
   "source": [
    "comp_ids_list =  []\n",
    "pscore_list = []\n",
    "\n",
    "for key, value in pscore_active_dict.items():\n",
    "    comp_ids_list.append(key)\n",
    "    pscore_list.append(value)\n",
    "\n",
    "pscore_set_data = {'PUBCHEM_CID': comp_ids_list,'PUBCHEM_ACTIVITY_SCORE': pscore_list}\n",
    "active_df_pscore = pd.DataFrame(pscore_set_data) #df of active compounds, df contains CIDs and pscores\n",
    "\n",
    "\n",
    "print(active_df_pscore.head())\n",
    "print(active_df_pscore.shape)"
   ]
  },
  {
   "cell_type": "markdown",
   "metadata": {},
   "source": [
    "#### Now to combine the two datasets (lbl2 + active_df_pscore) "
   ]
  },
  {
   "cell_type": "code",
   "execution_count": 27,
   "metadata": {
    "collapsed": false
   },
   "outputs": [
    {
     "name": "stdout",
     "output_type": "stream",
     "text": [
      "(10158, 2)\n",
      "   PUBCHEM_ACTIVITY_SCORE  PUBCHEM_CID\n",
      "0                     0.0        525.0\n",
      "1                     0.0       1329.0\n",
      "2                     0.0       1676.0\n",
      "3                     4.0       1688.0\n",
      "4                     0.0       1780.0\n"
     ]
    }
   ],
   "source": [
    "lbl2_final = lbl2.append(active_df_pscore)\n",
    "print(lbl2_final.shape)\n",
    "print(lbl2_final.head())"
   ]
  },
  {
   "cell_type": "markdown",
   "metadata": {},
   "source": [
    "Again, this label set must be converted to a list prior to use in order to remove the index values "
   ]
  },
  {
   "cell_type": "code",
   "execution_count": 28,
   "metadata": {
    "collapsed": true
   },
   "outputs": [],
   "source": [
    "lbl2_final_export = lbl2_final['PUBCHEM_ACTIVITY_SCORE']\n",
    "\n",
    "lbl2_final_export.to_csv('labels_set_2.csv')"
   ]
  },
  {
   "cell_type": "markdown",
   "metadata": {},
   "source": [
    "## Label Set 3:"
   ]
  },
  {
   "cell_type": "markdown",
   "metadata": {},
   "source": [
    "Same sequence of steps will be followed "
   ]
  },
  {
   "cell_type": "code",
   "execution_count": 29,
   "metadata": {
    "collapsed": false
   },
   "outputs": [
    {
     "data": {
      "text/html": [
       "<div>\n",
       "<table border=\"1\" class=\"dataframe\">\n",
       "  <thead>\n",
       "    <tr style=\"text-align: right;\">\n",
       "      <th></th>\n",
       "      <th>PUBCHEM_RESULT_TAG</th>\n",
       "      <th>PUBCHEM_SID</th>\n",
       "      <th>PUBCHEM_CID</th>\n",
       "      <th>PUBCHEM_ACTIVITY_OUTCOME</th>\n",
       "      <th>PUBCHEM_ACTIVITY_SCORE</th>\n",
       "      <th>PUBCHEM_ACTIVITY_URL</th>\n",
       "      <th>PUBCHEM_ASSAYDATA_COMMENT</th>\n",
       "      <th>Inhibition_Primary at 6 uM</th>\n",
       "    </tr>\n",
       "  </thead>\n",
       "  <tbody>\n",
       "    <tr>\n",
       "      <th>0</th>\n",
       "      <td>29176</td>\n",
       "      <td>4243530.0</td>\n",
       "      <td>525.0</td>\n",
       "      <td>Inactive</td>\n",
       "      <td>0.0</td>\n",
       "      <td>NaN</td>\n",
       "      <td>NaN</td>\n",
       "      <td>-3.2</td>\n",
       "    </tr>\n",
       "    <tr>\n",
       "      <th>1</th>\n",
       "      <td>10808</td>\n",
       "      <td>855876.0</td>\n",
       "      <td>1329.0</td>\n",
       "      <td>Inactive</td>\n",
       "      <td>0.0</td>\n",
       "      <td>NaN</td>\n",
       "      <td>NaN</td>\n",
       "      <td>0.9</td>\n",
       "    </tr>\n",
       "    <tr>\n",
       "      <th>2</th>\n",
       "      <td>10717</td>\n",
       "      <td>855784.0</td>\n",
       "      <td>1676.0</td>\n",
       "      <td>Inactive</td>\n",
       "      <td>0.0</td>\n",
       "      <td>NaN</td>\n",
       "      <td>NaN</td>\n",
       "      <td>-0.9</td>\n",
       "    </tr>\n",
       "    <tr>\n",
       "      <th>3</th>\n",
       "      <td>10549</td>\n",
       "      <td>855615.0</td>\n",
       "      <td>1688.0</td>\n",
       "      <td>Inactive</td>\n",
       "      <td>4.0</td>\n",
       "      <td>NaN</td>\n",
       "      <td>NaN</td>\n",
       "      <td>7.2</td>\n",
       "    </tr>\n",
       "    <tr>\n",
       "      <th>4</th>\n",
       "      <td>10561</td>\n",
       "      <td>855627.0</td>\n",
       "      <td>1780.0</td>\n",
       "      <td>Inactive</td>\n",
       "      <td>0.0</td>\n",
       "      <td>NaN</td>\n",
       "      <td>NaN</td>\n",
       "      <td>-2.3</td>\n",
       "    </tr>\n",
       "  </tbody>\n",
       "</table>\n",
       "</div>"
      ],
      "text/plain": [
       "  PUBCHEM_RESULT_TAG  PUBCHEM_SID  PUBCHEM_CID PUBCHEM_ACTIVITY_OUTCOME  \\\n",
       "0              29176    4243530.0        525.0                 Inactive   \n",
       "1              10808     855876.0       1329.0                 Inactive   \n",
       "2              10717     855784.0       1676.0                 Inactive   \n",
       "3              10549     855615.0       1688.0                 Inactive   \n",
       "4              10561     855627.0       1780.0                 Inactive   \n",
       "\n",
       "   PUBCHEM_ACTIVITY_SCORE  PUBCHEM_ACTIVITY_URL  PUBCHEM_ASSAYDATA_COMMENT  \\\n",
       "0                     0.0                   NaN                        NaN   \n",
       "1                     0.0                   NaN                        NaN   \n",
       "2                     0.0                   NaN                        NaN   \n",
       "3                     4.0                   NaN                        NaN   \n",
       "4                     0.0                   NaN                        NaN   \n",
       "\n",
       "  Inhibition_Primary at 6 uM  \n",
       "0                       -3.2  \n",
       "1                        0.9  \n",
       "2                       -0.9  \n",
       "3                        7.2  \n",
       "4                       -2.3  "
      ]
     },
     "execution_count": 29,
     "metadata": {},
     "output_type": "execute_result"
    }
   ],
   "source": [
    "lbl3 = df1\n",
    "lbl3.head()"
   ]
  },
  {
   "cell_type": "code",
   "execution_count": 30,
   "metadata": {
    "collapsed": false
   },
   "outputs": [
    {
     "name": "stdout",
     "output_type": "stream",
     "text": [
      "  Inhibition_Primary at 6 uM  PUBCHEM_CID\n",
      "0                       -3.2        525.0\n",
      "1                        0.9       1329.0\n",
      "2                       -0.9       1676.0\n",
      "3                        7.2       1688.0\n",
      "4                       -2.3       1780.0\n",
      "(10000, 2)\n"
     ]
    }
   ],
   "source": [
    "IP6M = \"Inhibition_Primary at 6 uM\"  #set column name to variable for convenience\n",
    "subset_lbl3 = [IP6M ,\"PUBCHEM_CID\"]\n",
    "lbl3 = lbl3[subset_lbl3] #copy the kept columns to a new df called \"lbl1_2\" - Lbl2 is for Label set 2\n",
    "print(lbl3.head()) #examine the df to confirm desired transformation took place\"\n",
    "print(lbl3.shape)"
   ]
  },
  {
   "cell_type": "code",
   "execution_count": 31,
   "metadata": {
    "collapsed": false
   },
   "outputs": [
    {
     "name": "stdout",
     "output_type": "stream",
     "text": [
      "158\n"
     ]
    }
   ],
   "source": [
    "IP6M_active_dict = {}  \n",
    "\n",
    "#Exact same process as above\n",
    "\n",
    "#table_end is defined above (length of column + 10000)\n",
    "\n",
    "\n",
    "for i in range(10000, table_end):\n",
    "    if df2[\"PUBCHEM_ACTIVITY_OUTCOME\"][i] == \"Active\":\n",
    "        CID = df2[\"PUBCHEM_CID\"][i]\n",
    "        IP6M_score = df2[IP6M][i]\n",
    "        IP6M_active_dict[CID] = IP6M_score\n",
    "        \n",
    "print(str(len(IP6M_active_dict)))  "
   ]
  },
  {
   "cell_type": "code",
   "execution_count": 39,
   "metadata": {
    "collapsed": false
   },
   "outputs": [
    {
     "name": "stdout",
     "output_type": "stream",
     "text": [
      "  Inhibition_Primary at 6 uM  PUBCHEM_CID\n",
      "0                       32.6    2533120.0\n",
      "1                      128.6    3238146.0\n",
      "2                       57.8    3237123.0\n",
      "3                       27.2    5739478.0\n",
      "4                       85.1    3236615.0\n",
      "(158, 2)\n"
     ]
    }
   ],
   "source": [
    "comp_ids_list =  []\n",
    "IP6M_list = []\n",
    "\n",
    "for key, value in IP6M_active_dict.items():\n",
    "    comp_ids_list.append(key)\n",
    "    IP6M_list.append(value)\n",
    "\n",
    "IP6M_set_data = {'PUBCHEM_CID': comp_ids_list, IP6M: IP6M_list}\n",
    "active_df_IP6M = pd.DataFrame(IP6M_set_data) #df of active compounds, df contains CIDs and pscores\n",
    "\n",
    "\n",
    "print(active_df_IP6M.head())\n",
    "print(active_df_IP6M.shape)"
   ]
  },
  {
   "cell_type": "markdown",
   "metadata": {},
   "source": [
    "#### Now to combine the two datasets (lbl3 + active_df_IP6M)  "
   ]
  },
  {
   "cell_type": "code",
   "execution_count": 41,
   "metadata": {
    "collapsed": false
   },
   "outputs": [
    {
     "name": "stdout",
     "output_type": "stream",
     "text": [
      "(10158, 2)\n",
      "  Inhibition_Primary at 6 uM  PUBCHEM_CID\n",
      "0                       -3.2        525.0\n",
      "1                        0.9       1329.0\n",
      "2                       -0.9       1676.0\n",
      "3                        7.2       1688.0\n",
      "4                       -2.3       1780.0\n"
     ]
    }
   ],
   "source": [
    "lbl3.shape\n",
    "lbl3.head(10)\n",
    "lbl3_final = lbl3.append(active_df_IP6M)\n",
    "print(lbl3_final.shape)\n",
    "print(lbl3_final.head())"
   ]
  },
  {
   "cell_type": "markdown",
   "metadata": {},
   "source": [
    "Convert df to list prior to use "
   ]
  },
  {
   "cell_type": "code",
   "execution_count": 42,
   "metadata": {
    "collapsed": true
   },
   "outputs": [],
   "source": [
    "lbl3_final_export = lbl3_final[IP6M]\n",
    "\n",
    "lbl3_final_export.to_csv('labels_set_3.csv')"
   ]
  },
  {
   "cell_type": "code",
   "execution_count": null,
   "metadata": {
    "collapsed": true
   },
   "outputs": [],
   "source": []
  }
 ],
 "metadata": {
  "kernelspec": {
   "display_name": "Python 3",
   "language": "python",
   "name": "python3"
  },
  "language_info": {
   "codemirror_mode": {
    "name": "ipython",
    "version": 3
   },
   "file_extension": ".py",
   "mimetype": "text/x-python",
   "name": "python",
   "nbconvert_exporter": "python",
   "pygments_lexer": "ipython3",
   "version": "3.5.2"
  }
 },
 "nbformat": 4,
 "nbformat_minor": 0
}
