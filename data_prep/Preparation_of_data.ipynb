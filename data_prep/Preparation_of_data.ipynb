{
 "cells": [
  {
   "cell_type": "markdown",
   "metadata": {},
   "source": [
    "#### Import necessary libraries "
   ]
  },
  {
   "cell_type": "code",
   "execution_count": 1,
   "metadata": {
    "collapsed": true
   },
   "outputs": [],
   "source": [
    "import pandas as pd\n",
    "import numpy as np\n",
    "\n",
    "import matplotlib.pyplot as plt\n",
    "%matplotlib inline\n",
    "\n",
    "from PIL import Image \n",
    "\n",
    "from sklearn.preprocessing import MinMaxScaler"
   ]
  },
  {
   "cell_type": "markdown",
   "metadata": {},
   "source": [
    "#### 1.1 Importing and reading the data "
   ]
  },
  {
   "cell_type": "code",
   "execution_count": 13,
   "metadata": {
    "collapsed": true
   },
   "outputs": [],
   "source": [
    "data = np.genfromtxt(\"batch_1_10000.csv\", delimiter=',')"
   ]
  },
  {
   "cell_type": "code",
   "execution_count": 14,
   "metadata": {
    "collapsed": false
   },
   "outputs": [
    {
     "data": {
      "text/plain": [
       "(10000, 10000)"
      ]
     },
     "execution_count": 14,
     "metadata": {},
     "output_type": "execute_result"
    }
   ],
   "source": [
    "data.shape"
   ]
  },
  {
   "cell_type": "code",
   "execution_count": 15,
   "metadata": {
    "collapsed": false
   },
   "outputs": [
    {
     "data": {
      "text/plain": [
       "array([ 245.,  245.,  245., ...,  245.,  245.,  245.])"
      ]
     },
     "execution_count": 15,
     "metadata": {},
     "output_type": "execute_result"
    }
   ],
   "source": [
    "data[0]"
   ]
  },
  {
   "cell_type": "code",
   "execution_count": 16,
   "metadata": {
    "collapsed": false
   },
   "outputs": [
    {
     "data": {
      "text/plain": [
       "255.0"
      ]
     },
     "execution_count": 16,
     "metadata": {},
     "output_type": "execute_result"
    }
   ],
   "source": [
    "np.amax(data)"
   ]
  },
  {
   "cell_type": "code",
   "execution_count": 17,
   "metadata": {
    "collapsed": false
   },
   "outputs": [
    {
     "data": {
      "text/plain": [
       "0.0"
      ]
     },
     "execution_count": 17,
     "metadata": {},
     "output_type": "execute_result"
    }
   ],
   "source": [
    "np.amin(data)"
   ]
  },
  {
   "cell_type": "code",
   "execution_count": 18,
   "metadata": {
    "collapsed": false
   },
   "outputs": [
    {
     "data": {
      "text/plain": [
       "numpy.float64"
      ]
     },
     "execution_count": 18,
     "metadata": {},
     "output_type": "execute_result"
    }
   ],
   "source": [
    "type(data[1][1])"
   ]
  },
  {
   "cell_type": "markdown",
   "metadata": {},
   "source": [
    "#### 1.2 Visualize the data "
   ]
  },
  {
   "cell_type": "code",
   "execution_count": 27,
   "metadata": {
    "collapsed": false
   },
   "outputs": [
    {
     "data": {
      "text/plain": [
       "<function matplotlib.pyplot.show>"
      ]
     },
     "execution_count": 27,
     "metadata": {},
     "output_type": "execute_result"
    },
    {
     "data": {
      "image/png": "[encoded data removed]",
      "text/plain": [
       "<matplotlib.figure.Figure at 0x7f55e1ff9cf8>"
      ]
     },
     "metadata": {},
     "output_type": "display_data"
    }
   ],
   "source": [
    "image1 = data[0]\n",
    "image1 = image1.reshape(100,100)\n",
    "plt.imshow(image1, cmap='gray')\n",
    "plt.show"
   ]
  },
  {
   "cell_type": "markdown",
   "metadata": {},
   "source": [
    "#### 1.3 Apply transformation"
   ]
  },
  {
   "cell_type": "code",
   "execution_count": 20,
   "metadata": {
    "collapsed": false
   },
   "outputs": [
    {
     "name": "stdout",
     "output_type": "stream",
     "text": [
      "done!\n"
     ]
    }
   ],
   "source": [
    "# Transform\n",
    "\n",
    "def Scaletoarray(arr):\n",
    "    minmax = MinMaxScaler(feature_range=(0,1))\n",
    "    for i in range(len(arr)):\n",
    "        temp_array = arr[i].reshape(10000,1)\n",
    "        temp_array = minmax.fit_transform(np.float32(temp_array))\n",
    "        arr[i] = temp_array.reshape(arr[i].shape)\n",
    "    print(\"done!\")\n",
    "    \n",
    "Scaletoarray(data)"
   ]
  },
  {
   "cell_type": "code",
   "execution_count": 21,
   "metadata": {
    "collapsed": false
   },
   "outputs": [
    {
     "name": "stdout",
     "output_type": "stream",
     "text": [
      "the shape of our data: (10000, 10000)\n",
      "[ 0.91379309  0.91379309  0.91379309 ...,  0.91379309  0.91379309\n",
      "  0.91379309]\n",
      "the max value of our data: 1.00000011921\n",
      "the min value of our data: 0.0\n"
     ]
    }
   ],
   "source": [
    "print(\"the shape of our data: \" + str(data.shape))\n",
    "print(str(data[0]))\n",
    "print(\"the max value of our data: \" + str(np.amax(data)))\n",
    "print(\"the min value of our data: \" + str(np.amin(data)))"
   ]
  },
  {
   "cell_type": "markdown",
   "metadata": {},
   "source": [
    "#### 1.4 Visualize again "
   ]
  },
  {
   "cell_type": "code",
   "execution_count": 28,
   "metadata": {
    "collapsed": false
   },
   "outputs": [
    {
     "data": {
      "text/plain": [
       "<function matplotlib.pyplot.show>"
      ]
     },
     "execution_count": 28,
     "metadata": {},
     "output_type": "execute_result"
    },
    {
     "data": {
      "image/png": "[encoded data removed]",
      "text/plain": [
       "<matplotlib.figure.Figure at 0x7f55e4b632b0>"
      ]
     },
     "metadata": {},
     "output_type": "display_data"
    }
   ],
   "source": [
    "image2 = data[0]\n",
    "image2 = image2.reshape(100,100)\n",
    "plt.imshow(image2, cmap='gray')\n",
    "plt.show"
   ]
  },
  {
   "cell_type": "code",
   "execution_count": 31,
   "metadata": {
    "collapsed": true
   },
   "outputs": [],
   "source": [
    "# np.savetxt('batch_1_10000_norm.csv', data, delimiter=',')"
   ]
  },
  {
   "cell_type": "markdown",
   "metadata": {
    "collapsed": true
   },
   "source": [
    "#### Due to the low number of actives, we will apply these transformations to a supplemental dataset which contains additional active compounds"
   ]
  },
  {
   "cell_type": "markdown",
   "metadata": {},
   "source": [
    "#### 2.1 Import and read the data "
   ]
  },
  {
   "cell_type": "code",
   "execution_count": 24,
   "metadata": {
    "collapsed": true
   },
   "outputs": [],
   "source": [
    "supp_actives = np.genfromtxt(\"2to5actives.csv\", delimiter=',') #actives from image batches 2 to 5 "
   ]
  },
  {
   "cell_type": "code",
   "execution_count": 26,
   "metadata": {
    "collapsed": false
   },
   "outputs": [
    {
     "name": "stdout",
     "output_type": "stream",
     "text": [
      "the shape of our data: (128, 10000)\n",
      "[ 245.  245.  245. ...,  245.  245.  245.]\n",
      "the max value of our data: 255.0\n",
      "the min value of our data: 56.0\n"
     ]
    }
   ],
   "source": [
    "print(\"the shape of our data: \" + str(supp_actives.shape))\n",
    "print(str(supp_actives[0]))\n",
    "print(\"the max value of our data: \" + str(np.amax(supp_actives)))\n",
    "print(\"the min value of our data: \" + str(np.amin(supp_actives)))"
   ]
  },
  {
   "cell_type": "markdown",
   "metadata": {},
   "source": [
    "#### 2.2 Visualize the data "
   ]
  },
  {
   "cell_type": "code",
   "execution_count": 29,
   "metadata": {
    "collapsed": false
   },
   "outputs": [
    {
     "data": {
      "text/plain": [
       "<function matplotlib.pyplot.show>"
      ]
     },
     "execution_count": 29,
     "metadata": {},
     "output_type": "execute_result"
    },
    {
     "data": {
      "image/png": "[encoded data removed]",
      "text/plain": [
       "<matplotlib.figure.Figure at 0x7f55e1fe8208>"
      ]
     },
     "metadata": {},
     "output_type": "display_data"
    }
   ],
   "source": [
    "image3 = supp_actives[0]\n",
    "image3 = image3.reshape(100,100)\n",
    "plt.imshow(image3, cmap='gray')\n",
    "plt.show"
   ]
  },
  {
   "cell_type": "markdown",
   "metadata": {},
   "source": [
    "#### 2.3 Apply transformation"
   ]
  },
  {
   "cell_type": "code",
   "execution_count": 30,
   "metadata": {
    "collapsed": false
   },
   "outputs": [
    {
     "name": "stdout",
     "output_type": "stream",
     "text": [
      "done!\n"
     ]
    }
   ],
   "source": [
    "Scaletoarray(supp_actives)"
   ]
  },
  {
   "cell_type": "code",
   "execution_count": 31,
   "metadata": {
    "collapsed": false
   },
   "outputs": [
    {
     "name": "stdout",
     "output_type": "stream",
     "text": [
      "the shape of our data: (128, 10000)\n",
      "[ 0.94708991  0.94708991  0.94708991 ...,  0.94708991  0.94708991\n",
      "  0.94708991]\n",
      "the max value of our data: 1.0\n",
      "the min value of our data: 0.0\n"
     ]
    }
   ],
   "source": [
    "print(\"the shape of our data: \" + str(supp_actives.shape))\n",
    "print(str(supp_actives[0]))\n",
    "print(\"the max value of our data: \" + str(np.amax(supp_actives)))\n",
    "print(\"the min value of our data: \" + str(np.amin(supp_actives)))"
   ]
  },
  {
   "cell_type": "markdown",
   "metadata": {},
   "source": [
    "#### 2.4 Visualize again"
   ]
  },
  {
   "cell_type": "code",
   "execution_count": 47,
   "metadata": {
    "collapsed": false
   },
   "outputs": [
    {
     "data": {
      "text/plain": [
       "<function matplotlib.pyplot.show>"
      ]
     },
     "execution_count": 47,
     "metadata": {},
     "output_type": "execute_result"
    },
    {
     "data": {
      "image/png": "[encoded data removed]",
      "text/plain": [
       "<matplotlib.figure.Figure at 0x7f55e3824128>"
      ]
     },
     "metadata": {},
     "output_type": "display_data"
    }
   ],
   "source": [
    "image4 = supp_actives[0]\n",
    "image4 = image4.reshape(100,100)\n",
    "plt.imshow(image4, cmap='gray')\n",
    "plt.show"
   ]
  },
  {
   "cell_type": "code",
   "execution_count": 48,
   "metadata": {
    "collapsed": true
   },
   "outputs": [],
   "source": [
    "np.savetxt('2to5actives_norm.csv', supp_actives, delimiter=',')"
   ]
  },
  {
   "cell_type": "markdown",
   "metadata": {},
   "source": [
    "### Now we will combine the two datasets "
   ]
  },
  {
   "cell_type": "code",
   "execution_count": 40,
   "metadata": {
    "collapsed": false
   },
   "outputs": [],
   "source": [
    "extended_batch_1 = np.append(data, supp_actives, axis=0)"
   ]
  },
  {
   "cell_type": "code",
   "execution_count": 41,
   "metadata": {
    "collapsed": false
   },
   "outputs": [
    {
     "name": "stdout",
     "output_type": "stream",
     "text": [
      "the shape of our data: (10128, 10000)\n",
      "[ 0.91379309  0.91379309  0.91379309 ...,  0.91379309  0.91379309\n",
      "  0.91379309]\n",
      "the max value of our data: 1.00000011921\n",
      "the min value of our data: 0.0\n"
     ]
    }
   ],
   "source": [
    "print(\"the shape of our data: \" + str(extended_batch_1.shape))\n",
    "print(str(extended_batch_1[0]))\n",
    "print(\"the max value of our data: \" + str(np.amax(extended_batch_1)))\n",
    "print(\"the min value of our data: \" + str(np.amin(extended_batch_1)))"
   ]
  },
  {
   "cell_type": "code",
   "execution_count": 42,
   "metadata": {
    "collapsed": false
   },
   "outputs": [
    {
     "name": "stdout",
     "output_type": "stream",
     "text": [
      "done!\n"
     ]
    }
   ],
   "source": [
    "Scaletoarray(extended_batch_1) # since the max value seems to have changed"
   ]
  },
  {
   "cell_type": "code",
   "execution_count": 43,
   "metadata": {
    "collapsed": false
   },
   "outputs": [
    {
     "name": "stdout",
     "output_type": "stream",
     "text": [
      "the shape of our data: (10128, 10000)\n",
      "[ 0.91379309  0.91379309  0.91379309 ...,  0.91379309  0.91379309\n",
      "  0.91379309]\n",
      "the max value of our data: 1.0\n",
      "the min value of our data: 0.0\n"
     ]
    }
   ],
   "source": [
    "print(\"the shape of our data: \" + str(extended_batch_1.shape))\n",
    "print(str(extended_batch_1[0]))\n",
    "print(\"the max value of our data: \" + str(np.amax(extended_batch_1)))\n",
    "print(\"the min value of our data: \" + str(np.amin(extended_batch_1)))"
   ]
  },
  {
   "cell_type": "code",
   "execution_count": 46,
   "metadata": {
    "collapsed": false
   },
   "outputs": [
    {
     "data": {
      "text/plain": [
       "<function matplotlib.pyplot.show>"
      ]
     },
     "execution_count": 46,
     "metadata": {},
     "output_type": "execute_result"
    },
    {
     "data": {
      "image/png": "[encoded data removed]",
      "text/plain": [
       "<matplotlib.figure.Figure at 0x7f57f10bce80>"
      ]
     },
     "metadata": {},
     "output_type": "display_data"
    }
   ],
   "source": [
    "image5 = extended_batch_1[10122]\n",
    "image5 = image5.reshape(100,100)\n",
    "plt.imshow(image5, cmap='gray')\n",
    "plt.show"
   ]
  },
  {
   "cell_type": "code",
   "execution_count": 49,
   "metadata": {
    "collapsed": true
   },
   "outputs": [],
   "source": [
    "np.savetxt('extended_batch_1.csv', extended_batch_1, delimiter=',')"
   ]
  },
  {
   "cell_type": "code",
   "execution_count": null,
   "metadata": {
    "collapsed": true
   },
   "outputs": [],
   "source": []
  }
 ],
 "metadata": {
  "kernelspec": {
   "display_name": "Python 3",
   "language": "python",
   "name": "python3"
  },
  "language_info": {
   "codemirror_mode": {
    "name": "ipython",
    "version": 3
   },
   "file_extension": ".py",
   "mimetype": "text/x-python",
   "name": "python",
   "nbconvert_exporter": "python",
   "pygments_lexer": "ipython3",
   "version": "3.5.2"
  }
 },
 "nbformat": 4,
 "nbformat_minor": 0
}
