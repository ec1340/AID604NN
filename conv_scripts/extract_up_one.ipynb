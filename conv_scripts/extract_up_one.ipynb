{
 "cells": [
  {
   "cell_type": "code",
   "execution_count": 44,
   "metadata": {
    "collapsed": false
   },
   "outputs": [],
   "source": [
    "import fnmatch\n",
    "import os\n",
    "import pickle\n",
    "import pprint\n",
    "import shutil"
   ]
  },
  {
   "cell_type": "code",
   "execution_count": 43,
   "metadata": {
    "collapsed": false
   },
   "outputs": [
    {
     "data": {
      "text/plain": [
       "'C:\\\\Users\\\\Egbert\\\\Desktop\\\\cNN_workflow\\\\extraction'"
      ]
     },
     "execution_count": 43,
     "metadata": {},
     "output_type": "execute_result"
    }
   ],
   "source": [
    "pwd"
   ]
  },
  {
   "cell_type": "code",
   "execution_count": 45,
   "metadata": {
    "collapsed": true
   },
   "outputs": [],
   "source": [
    "current_dir = 'C:\\\\Users\\\\Egbert\\\\Desktop\\\\cNN_workflow\\\\extraction'\n",
    "dest_dir = 'C:\\\\Users\\\\Egbert\\\\Desktop\\\\cNN_workflow'"
   ]
  },
  {
   "cell_type": "code",
   "execution_count": 24,
   "metadata": {
    "collapsed": true
   },
   "outputs": [],
   "source": [
    "test_list = [1213, 3123124, 1231323, 32423423, 1231231, 2323523,123123]"
   ]
  },
  {
   "cell_type": "code",
   "execution_count": 32,
   "metadata": {
    "collapsed": true
   },
   "outputs": [],
   "source": [
    "pickle.dump(test_list, open(\"test_list.p\", \"wb\") )"
   ]
  },
  {
   "cell_type": "code",
   "execution_count": 33,
   "metadata": {
    "collapsed": true
   },
   "outputs": [],
   "source": [
    "pickle_list = pickle.load( open(\"test_list.p\", 'rb'))"
   ]
  },
  {
   "cell_type": "code",
   "execution_count": 34,
   "metadata": {
    "collapsed": false
   },
   "outputs": [
    {
     "name": "stdout",
     "output_type": "stream",
     "text": [
      "[1213, 3123124, 1231323, 32423423, 1231231, 2323523, 123123]\n"
     ]
    }
   ],
   "source": [
    "pprint.pprint(pickle_list)"
   ]
  },
  {
   "cell_type": "code",
   "execution_count": 35,
   "metadata": {
    "collapsed": true
   },
   "outputs": [],
   "source": [
    "new_items = [14102, 41092]"
   ]
  },
  {
   "cell_type": "code",
   "execution_count": 36,
   "metadata": {
    "collapsed": true
   },
   "outputs": [],
   "source": [
    "for x in new_items:\n",
    "    pickle_list.append(x)"
   ]
  },
  {
   "cell_type": "code",
   "execution_count": 37,
   "metadata": {
    "collapsed": false
   },
   "outputs": [
    {
     "name": "stdout",
     "output_type": "stream",
     "text": [
      "[1213, 3123124, 1231323, 32423423, 1231231, 2323523, 123123, 14102, 41092]\n"
     ]
    }
   ],
   "source": [
    "pprint.pprint(pickle_list)"
   ]
  },
  {
   "cell_type": "code",
   "execution_count": 60,
   "metadata": {
    "collapsed": false
   },
   "outputs": [
    {
     "name": "stdout",
     "output_type": "stream",
     "text": [
      "the current working directory is: C:\\Users\\Egbert\\Desktop\\cNN_workflow\\extraction\n",
      "enter destination: C:\\Users\\Egbert\\Desktop\\cNN_workflow\n"
     ]
    }
   ],
   "source": [
    "print(\"the current working directory is: \" + str(os.getcwd()))\n",
    "dest = input(\"enter destination: \")\n",
    "\n",
    "for file in os.listdir('.'):\n",
    "    if fnmatch.fnmatch(file, '*png'):  #possible origin of bug\n",
    "        file_name = str(file)\n",
    "        file_name = file_name[:-4]\n",
    "        for x in range(0,len(pickle_list)):\n",
    "            xref = pickle_list[x]\n",
    "            if int(xref) == int(file_name):\n",
    "                shutil.copy(file, dest)\n",
    "    "
   ]
  },
  {
   "cell_type": "code",
   "execution_count": null,
   "metadata": {
    "collapsed": true
   },
   "outputs": [],
   "source": []
  }
 ],
 "metadata": {
  "kernelspec": {
   "display_name": "Python 3",
   "language": "python",
   "name": "python3"
  },
  "language_info": {
   "codemirror_mode": {
    "name": "ipython",
    "version": 3
   },
   "file_extension": ".py",
   "mimetype": "text/x-python",
   "name": "python",
   "nbconvert_exporter": "python",
   "pygments_lexer": "ipython3",
   "version": "3.5.1"
  }
 },
 "nbformat": 4,
 "nbformat_minor": 0
}
